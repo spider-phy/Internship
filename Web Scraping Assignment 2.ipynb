{
 "cells": [
  {
   "cell_type": "code",
   "execution_count": 1,
   "id": "461f366f",
   "metadata": {},
   "outputs": [
    {
     "name": "stdout",
     "output_type": "stream",
     "text": [
      "Requirement already satisfied: selenium in c:\\users\\h\\anaconda3\\lib\\site-packages (4.7.2)\n",
      "Requirement already satisfied: trio-websocket~=0.9 in c:\\users\\h\\anaconda3\\lib\\site-packages (from selenium) (0.9.2)\n",
      "Requirement already satisfied: certifi>=2021.10.8 in c:\\users\\h\\anaconda3\\lib\\site-packages (from selenium) (2022.9.14)\n",
      "Requirement already satisfied: trio~=0.17 in c:\\users\\h\\anaconda3\\lib\\site-packages (from selenium) (0.22.0)\n",
      "Requirement already satisfied: urllib3[socks]~=1.26 in c:\\users\\h\\anaconda3\\lib\\site-packages (from selenium) (1.26.11)\n",
      "Requirement already satisfied: sniffio in c:\\users\\h\\anaconda3\\lib\\site-packages (from trio~=0.17->selenium) (1.2.0)\n",
      "Requirement already satisfied: sortedcontainers in c:\\users\\h\\anaconda3\\lib\\site-packages (from trio~=0.17->selenium) (2.4.0)\n",
      "Requirement already satisfied: idna in c:\\users\\h\\anaconda3\\lib\\site-packages (from trio~=0.17->selenium) (3.3)\n",
      "Requirement already satisfied: attrs>=19.2.0 in c:\\users\\h\\anaconda3\\lib\\site-packages (from trio~=0.17->selenium) (21.4.0)\n",
      "Requirement already satisfied: exceptiongroup>=1.0.0rc9 in c:\\users\\h\\anaconda3\\lib\\site-packages (from trio~=0.17->selenium) (1.1.0)\n",
      "Requirement already satisfied: async-generator>=1.9 in c:\\users\\h\\anaconda3\\lib\\site-packages (from trio~=0.17->selenium) (1.10)\n",
      "Requirement already satisfied: outcome in c:\\users\\h\\anaconda3\\lib\\site-packages (from trio~=0.17->selenium) (1.2.0)\n",
      "Requirement already satisfied: cffi>=1.14 in c:\\users\\h\\anaconda3\\lib\\site-packages (from trio~=0.17->selenium) (1.15.1)\n",
      "Requirement already satisfied: wsproto>=0.14 in c:\\users\\h\\anaconda3\\lib\\site-packages (from trio-websocket~=0.9->selenium) (1.2.0)\n",
      "Requirement already satisfied: PySocks!=1.5.7,<2.0,>=1.5.6 in c:\\users\\h\\anaconda3\\lib\\site-packages (from urllib3[socks]~=1.26->selenium) (1.7.1)\n",
      "Requirement already satisfied: pycparser in c:\\users\\h\\anaconda3\\lib\\site-packages (from cffi>=1.14->trio~=0.17->selenium) (2.21)\n",
      "Requirement already satisfied: h11<1,>=0.9.0 in c:\\users\\h\\anaconda3\\lib\\site-packages (from wsproto>=0.14->trio-websocket~=0.9->selenium) (0.14.0)\n"
     ]
    }
   ],
   "source": [
    "#question1\n",
    "!pip install selenium"
   ]
  },
  {
   "cell_type": "code",
   "execution_count": 2,
   "id": "68b8a07e",
   "metadata": {},
   "outputs": [],
   "source": [
    "import selenium\n",
    "import pandas as pd\n",
    "from selenium import webdriver\n",
    "import warnings\n",
    "warnings.filterwarnings('ignore')\n",
    "from selenium.common.exceptions import StaleElementReferenceException, NoSuchElementException\n",
    "from selenium.webdriver.common.by import By\n",
    "import time"
   ]
  },
  {
   "cell_type": "code",
   "execution_count": 3,
   "id": "02c711cc",
   "metadata": {},
   "outputs": [],
   "source": [
    "driver=webdriver.Chrome(r\"C:\\Users\\h\\Desktop\\chromedriver.exe\")"
   ]
  },
  {
   "cell_type": "code",
   "execution_count": 4,
   "id": "e80408f7",
   "metadata": {},
   "outputs": [],
   "source": [
    "driver.get(\"https://www.naukri.com/\")"
   ]
  },
  {
   "cell_type": "code",
   "execution_count": 5,
   "id": "26a24013",
   "metadata": {},
   "outputs": [],
   "source": [
    "designation=driver.find_element(By.CLASS_NAME,\"suggestor-input\")\n",
    "designation.send_keys('Data Analyst')"
   ]
  },
  {
   "cell_type": "code",
   "execution_count": 6,
   "id": "3ef7f5ca",
   "metadata": {},
   "outputs": [],
   "source": [
    "location=driver.find_element(By.XPATH, \"/html/body/div[1]/div[6]/div/div/div[5]/div/div/div/input\")\n",
    "location.send_keys('Bangalore')"
   ]
  },
  {
   "cell_type": "code",
   "execution_count": 7,
   "id": "6996b35d",
   "metadata": {},
   "outputs": [],
   "source": [
    "search=driver.find_element(By.CLASS_NAME,\"qsbSubmit\")\n",
    "search.click()"
   ]
  },
  {
   "cell_type": "code",
   "execution_count": 8,
   "id": "68373879",
   "metadata": {},
   "outputs": [],
   "source": [
    "job_title=[]\n",
    "job_location=[]\n",
    "company_name=[]\n",
    "exp_req=[]\n"
   ]
  },
  {
   "cell_type": "code",
   "execution_count": 14,
   "id": "8e0be27a",
   "metadata": {},
   "outputs": [
    {
     "data": {
      "text/plain": [
       "['Data Analyst/Senior Analyst - R/SQL/Python',\n",
       " 'Data Analyst',\n",
       " 'data analyst / data analytics - US MNC (analytics)',\n",
       " 'Business Data Analyst (Sr Exe / Asst Manager)',\n",
       " 'Junior Data Analyst/ Scientist- Fresher Position',\n",
       " 'Staff Data Analyst',\n",
       " 'Reference Data Analyst',\n",
       " 'Sr Data Analyst',\n",
       " 'Job Opportunity with Leading MNC - Senior Data Analyst',\n",
       " 'Manager/Senior Manager - Data Analyst']"
      ]
     },
     "execution_count": 14,
     "metadata": {},
     "output_type": "execute_result"
    }
   ],
   "source": [
    "title_tags=driver.find_elements(By.XPATH, '//a[@class=\"title ellipsis\"]')\n",
    "for t in title_tags[0:10]:\n",
    "    title=t.text\n",
    "    job_title.append(title)\n",
    "    \n",
    "job_title"
   ]
  },
  {
   "cell_type": "code",
   "execution_count": 15,
   "id": "a89b43ab",
   "metadata": {},
   "outputs": [
    {
     "data": {
      "text/plain": [
       "['Temp. WFH - Bangalore/Bengaluru, Kolkata, Mumbai, Hyderabad/Secunderabad, Pune, Chennai, Ahmedabad, Delhi / NCR',\n",
       " 'Bangalore/Bengaluru',\n",
       " 'Temp. WFH - Bangalore/Bengaluru, Gurgaon/Gurugram',\n",
       " 'Bangalore/Bengaluru',\n",
       " 'Hybrid - Bangalore/Bengaluru, New Delhi, Mumbai (All Areas)',\n",
       " 'Bangalore/Bengaluru',\n",
       " 'Bangalore/Bengaluru',\n",
       " 'Hybrid - Bangalore/Bengaluru',\n",
       " 'Bangalore/Bengaluru',\n",
       " 'Bangalore/Bengaluru, Mumbai, Hyderabad/Secunderabad, Pune, Gurgaon/Gurugram, Ahmedabad, Jaipur, Delhi / NCR']"
      ]
     },
     "execution_count": 15,
     "metadata": {},
     "output_type": "execute_result"
    }
   ],
   "source": [
    "location_tags=driver.find_elements(By.XPATH,'//span[@class=\"ellipsis fleft locWdth\"]')\n",
    "for l in location_tags[0:10]:\n",
    "    loc=l.text\n",
    "    job_location.append(loc)\n",
    "\n",
    "job_location"
   ]
  },
  {
   "cell_type": "code",
   "execution_count": 11,
   "id": "c475dafe",
   "metadata": {},
   "outputs": [
    {
     "data": {
      "text/plain": [
       "['The Nikharv Consultancy',\n",
       " 'Target',\n",
       " 'Aspyra Hr Services',\n",
       " 'Talentleads',\n",
       " 'Sejal Consulting Hub',\n",
       " 'Walmart',\n",
       " 'Deutsche Bank',\n",
       " 'Amolitalents',\n",
       " 'Enrich And Enlight Business Consulting',\n",
       " 'Huquo Consulting Pvt. Ltd']"
      ]
     },
     "execution_count": 11,
     "metadata": {},
     "output_type": "execute_result"
    }
   ],
   "source": [
    "company_tags=driver.find_elements(By.XPATH, '//a[@class=\"subTitle ellipsis fleft\"]')\n",
    "for c in company_tags[0:10]:\n",
    "    com=c.text\n",
    "    company_name.append(com)\n",
    "company_name"
   ]
  },
  {
   "cell_type": "code",
   "execution_count": 12,
   "id": "3238c5c6",
   "metadata": {},
   "outputs": [
    {
     "data": {
      "text/plain": [
       "['3-6 Yrs',\n",
       " '2-4 Yrs',\n",
       " '3-8 Yrs',\n",
       " '3-5 Yrs',\n",
       " '0-5 Yrs',\n",
       " '10-14 Yrs',\n",
       " '6-8 Yrs',\n",
       " '6-9 Yrs',\n",
       " '5-7 Yrs',\n",
       " '2-7 Yrs']"
      ]
     },
     "execution_count": 12,
     "metadata": {},
     "output_type": "execute_result"
    }
   ],
   "source": [
    "exp_tags=driver.find_elements(By.XPATH, '//span[@class=\"ellipsis fleft expwdth\"]')\n",
    "for e in exp_tags[0:10]:\n",
    "    ex=e.text\n",
    "    exp_req.append(e.text)\n",
    "    \n",
    "exp_req"
   ]
  },
  {
   "cell_type": "code",
   "execution_count": 16,
   "id": "dd664ce1",
   "metadata": {},
   "outputs": [
    {
     "data": {
      "text/html": [
       "<div>\n",
       "<style scoped>\n",
       "    .dataframe tbody tr th:only-of-type {\n",
       "        vertical-align: middle;\n",
       "    }\n",
       "\n",
       "    .dataframe tbody tr th {\n",
       "        vertical-align: top;\n",
       "    }\n",
       "\n",
       "    .dataframe thead th {\n",
       "        text-align: right;\n",
       "    }\n",
       "</style>\n",
       "<table border=\"1\" class=\"dataframe\">\n",
       "  <thead>\n",
       "    <tr style=\"text-align: right;\">\n",
       "      <th></th>\n",
       "      <th>Title</th>\n",
       "      <th>Location</th>\n",
       "      <th>Name of the Comapny</th>\n",
       "      <th>Experience</th>\n",
       "    </tr>\n",
       "  </thead>\n",
       "  <tbody>\n",
       "    <tr>\n",
       "      <th>0</th>\n",
       "      <td>Data Analyst/Senior Analyst - R/SQL/Python</td>\n",
       "      <td>Temp. WFH - Bangalore/Bengaluru, Kolkata, Mumb...</td>\n",
       "      <td>The Nikharv Consultancy</td>\n",
       "      <td>3-6 Yrs</td>\n",
       "    </tr>\n",
       "    <tr>\n",
       "      <th>1</th>\n",
       "      <td>Data Analyst</td>\n",
       "      <td>Bangalore/Bengaluru</td>\n",
       "      <td>Target</td>\n",
       "      <td>2-4 Yrs</td>\n",
       "    </tr>\n",
       "    <tr>\n",
       "      <th>2</th>\n",
       "      <td>data analyst / data analytics - US MNC (analyt...</td>\n",
       "      <td>Temp. WFH - Bangalore/Bengaluru, Gurgaon/Gurugram</td>\n",
       "      <td>Aspyra Hr Services</td>\n",
       "      <td>3-8 Yrs</td>\n",
       "    </tr>\n",
       "    <tr>\n",
       "      <th>3</th>\n",
       "      <td>Business Data Analyst (Sr Exe / Asst Manager)</td>\n",
       "      <td>Bangalore/Bengaluru</td>\n",
       "      <td>Talentleads</td>\n",
       "      <td>3-5 Yrs</td>\n",
       "    </tr>\n",
       "    <tr>\n",
       "      <th>4</th>\n",
       "      <td>Junior Data Analyst/ Scientist- Fresher Position</td>\n",
       "      <td>Hybrid - Bangalore/Bengaluru, New Delhi, Mumba...</td>\n",
       "      <td>Sejal Consulting Hub</td>\n",
       "      <td>0-5 Yrs</td>\n",
       "    </tr>\n",
       "    <tr>\n",
       "      <th>5</th>\n",
       "      <td>Staff Data Analyst</td>\n",
       "      <td>Bangalore/Bengaluru</td>\n",
       "      <td>Walmart</td>\n",
       "      <td>10-14 Yrs</td>\n",
       "    </tr>\n",
       "    <tr>\n",
       "      <th>6</th>\n",
       "      <td>Reference Data Analyst</td>\n",
       "      <td>Bangalore/Bengaluru</td>\n",
       "      <td>Deutsche Bank</td>\n",
       "      <td>6-8 Yrs</td>\n",
       "    </tr>\n",
       "    <tr>\n",
       "      <th>7</th>\n",
       "      <td>Sr Data Analyst</td>\n",
       "      <td>Hybrid - Bangalore/Bengaluru</td>\n",
       "      <td>Amolitalents</td>\n",
       "      <td>6-9 Yrs</td>\n",
       "    </tr>\n",
       "    <tr>\n",
       "      <th>8</th>\n",
       "      <td>Job Opportunity with Leading MNC - Senior Data...</td>\n",
       "      <td>Bangalore/Bengaluru</td>\n",
       "      <td>Enrich And Enlight Business Consulting</td>\n",
       "      <td>5-7 Yrs</td>\n",
       "    </tr>\n",
       "    <tr>\n",
       "      <th>9</th>\n",
       "      <td>Manager/Senior Manager - Data Analyst</td>\n",
       "      <td>Bangalore/Bengaluru, Mumbai, Hyderabad/Secunde...</td>\n",
       "      <td>Huquo Consulting Pvt. Ltd</td>\n",
       "      <td>2-7 Yrs</td>\n",
       "    </tr>\n",
       "  </tbody>\n",
       "</table>\n",
       "</div>"
      ],
      "text/plain": [
       "                                               Title  \\\n",
       "0         Data Analyst/Senior Analyst - R/SQL/Python   \n",
       "1                                       Data Analyst   \n",
       "2  data analyst / data analytics - US MNC (analyt...   \n",
       "3      Business Data Analyst (Sr Exe / Asst Manager)   \n",
       "4   Junior Data Analyst/ Scientist- Fresher Position   \n",
       "5                                 Staff Data Analyst   \n",
       "6                             Reference Data Analyst   \n",
       "7                                    Sr Data Analyst   \n",
       "8  Job Opportunity with Leading MNC - Senior Data...   \n",
       "9              Manager/Senior Manager - Data Analyst   \n",
       "\n",
       "                                            Location  \\\n",
       "0  Temp. WFH - Bangalore/Bengaluru, Kolkata, Mumb...   \n",
       "1                                Bangalore/Bengaluru   \n",
       "2  Temp. WFH - Bangalore/Bengaluru, Gurgaon/Gurugram   \n",
       "3                                Bangalore/Bengaluru   \n",
       "4  Hybrid - Bangalore/Bengaluru, New Delhi, Mumba...   \n",
       "5                                Bangalore/Bengaluru   \n",
       "6                                Bangalore/Bengaluru   \n",
       "7                       Hybrid - Bangalore/Bengaluru   \n",
       "8                                Bangalore/Bengaluru   \n",
       "9  Bangalore/Bengaluru, Mumbai, Hyderabad/Secunde...   \n",
       "\n",
       "                      Name of the Comapny Experience  \n",
       "0                 The Nikharv Consultancy    3-6 Yrs  \n",
       "1                                  Target    2-4 Yrs  \n",
       "2                      Aspyra Hr Services    3-8 Yrs  \n",
       "3                             Talentleads    3-5 Yrs  \n",
       "4                    Sejal Consulting Hub    0-5 Yrs  \n",
       "5                                 Walmart  10-14 Yrs  \n",
       "6                           Deutsche Bank    6-8 Yrs  \n",
       "7                            Amolitalents    6-9 Yrs  \n",
       "8  Enrich And Enlight Business Consulting    5-7 Yrs  \n",
       "9               Huquo Consulting Pvt. Ltd    2-7 Yrs  "
      ]
     },
     "execution_count": 16,
     "metadata": {},
     "output_type": "execute_result"
    }
   ],
   "source": [
    "import pandas as pd\n",
    "nau=pd.DataFrame({'Title': job_title, 'Location': job_location, 'Name of the Comapny':company_name, 'Experience': exp_req})\n",
    "nau"
   ]
  },
  {
   "cell_type": "code",
   "execution_count": 17,
   "id": "237002a9",
   "metadata": {},
   "outputs": [
    {
     "name": "stdout",
     "output_type": "stream",
     "text": [
      "Requirement already satisfied: selenium in c:\\users\\h\\anaconda3\\lib\\site-packages (4.7.2)\n",
      "Requirement already satisfied: urllib3[socks]~=1.26 in c:\\users\\h\\anaconda3\\lib\\site-packages (from selenium) (1.26.11)\n",
      "Requirement already satisfied: certifi>=2021.10.8 in c:\\users\\h\\anaconda3\\lib\\site-packages (from selenium) (2022.9.14)\n",
      "Requirement already satisfied: trio-websocket~=0.9 in c:\\users\\h\\anaconda3\\lib\\site-packages (from selenium) (0.9.2)\n",
      "Requirement already satisfied: trio~=0.17 in c:\\users\\h\\anaconda3\\lib\\site-packages (from selenium) (0.22.0)\n",
      "Requirement already satisfied: cffi>=1.14 in c:\\users\\h\\anaconda3\\lib\\site-packages (from trio~=0.17->selenium) (1.15.1)\n",
      "Requirement already satisfied: outcome in c:\\users\\h\\anaconda3\\lib\\site-packages (from trio~=0.17->selenium) (1.2.0)\n",
      "Requirement already satisfied: sortedcontainers in c:\\users\\h\\anaconda3\\lib\\site-packages (from trio~=0.17->selenium) (2.4.0)\n",
      "Requirement already satisfied: attrs>=19.2.0 in c:\\users\\h\\anaconda3\\lib\\site-packages (from trio~=0.17->selenium) (21.4.0)\n",
      "Requirement already satisfied: sniffio in c:\\users\\h\\anaconda3\\lib\\site-packages (from trio~=0.17->selenium) (1.2.0)\n",
      "Requirement already satisfied: idna in c:\\users\\h\\anaconda3\\lib\\site-packages (from trio~=0.17->selenium) (3.3)\n",
      "Requirement already satisfied: async-generator>=1.9 in c:\\users\\h\\anaconda3\\lib\\site-packages (from trio~=0.17->selenium) (1.10)\n",
      "Requirement already satisfied: exceptiongroup>=1.0.0rc9 in c:\\users\\h\\anaconda3\\lib\\site-packages (from trio~=0.17->selenium) (1.1.0)\n",
      "Requirement already satisfied: wsproto>=0.14 in c:\\users\\h\\anaconda3\\lib\\site-packages (from trio-websocket~=0.9->selenium) (1.2.0)\n",
      "Requirement already satisfied: PySocks!=1.5.7,<2.0,>=1.5.6 in c:\\users\\h\\anaconda3\\lib\\site-packages (from urllib3[socks]~=1.26->selenium) (1.7.1)\n",
      "Requirement already satisfied: pycparser in c:\\users\\h\\anaconda3\\lib\\site-packages (from cffi>=1.14->trio~=0.17->selenium) (2.21)\n",
      "Requirement already satisfied: h11<1,>=0.9.0 in c:\\users\\h\\anaconda3\\lib\\site-packages (from wsproto>=0.14->trio-websocket~=0.9->selenium) (0.14.0)\n"
     ]
    }
   ],
   "source": [
    "#question 2\n",
    "!pip install selenium"
   ]
  },
  {
   "cell_type": "code",
   "execution_count": 18,
   "id": "5e1f1e1b",
   "metadata": {},
   "outputs": [],
   "source": [
    "#Question 2: Write a python program to scrape data for “Data Scientist” Job position in “Bangalore” location. You have to scrape the job-title, job-location, company_name. You have to scrape first 10 jobs data."
   ]
  },
  {
   "cell_type": "code",
   "execution_count": 19,
   "id": "cadb362b",
   "metadata": {},
   "outputs": [],
   "source": [
    "import selenium\n",
    "import pandas as pd\n",
    "from selenium import webdriver\n",
    "import warnings\n",
    "warnings.filterwarnings('ignore')\n",
    "from selenium.common.exceptions import StaleElementReferenceException, NoSuchElementException\n",
    "from selenium.webdriver.common.by import By\n",
    "import time"
   ]
  },
  {
   "cell_type": "code",
   "execution_count": 35,
   "id": "f0120dfa",
   "metadata": {},
   "outputs": [],
   "source": [
    "driver=webdriver.Chrome(r\"C:\\Users\\h\\Desktop\\chromedriver.exe\")"
   ]
  },
  {
   "cell_type": "code",
   "execution_count": 36,
   "id": "4a853279",
   "metadata": {},
   "outputs": [],
   "source": [
    "driver.get(\"https://www.naukri.com/\")"
   ]
  },
  {
   "cell_type": "code",
   "execution_count": 37,
   "id": "1185af31",
   "metadata": {},
   "outputs": [],
   "source": [
    "designation=driver.find_element(By.CLASS_NAME,\"suggestor-input\")\n",
    "designation.send_keys('Data Scientist')"
   ]
  },
  {
   "cell_type": "code",
   "execution_count": 38,
   "id": "9b22bef8",
   "metadata": {},
   "outputs": [],
   "source": [
    "location=driver.find_element(By.XPATH, \"/html/body/div[1]/div[6]/div/div/div[5]/div/div/div/input\")\n",
    "location.send_keys('Bangalore')"
   ]
  },
  {
   "cell_type": "code",
   "execution_count": 39,
   "id": "9b1d6af6",
   "metadata": {},
   "outputs": [],
   "source": [
    "search=driver.find_element(By.CLASS_NAME,\"qsbSubmit\")\n",
    "search.click()"
   ]
  },
  {
   "cell_type": "code",
   "execution_count": 40,
   "id": "5b58815c",
   "metadata": {},
   "outputs": [],
   "source": [
    "job_tit=[]\n",
    "job_loc=[]\n",
    "company_name=[]"
   ]
  },
  {
   "cell_type": "code",
   "execution_count": 42,
   "id": "f25ca200",
   "metadata": {},
   "outputs": [
    {
     "data": {
      "text/plain": [
       "['Data Scientist',\n",
       " 'Data Scientist',\n",
       " 'Analystics & Modeling Specialist',\n",
       " 'Data Science Specialist',\n",
       " 'Lead Data Scientist',\n",
       " 'Data Scientist',\n",
       " 'Data Scientist',\n",
       " 'Staff Data Analyst',\n",
       " 'Data Scientist',\n",
       " 'Data Scientist Knowledge graph']"
      ]
     },
     "execution_count": 42,
     "metadata": {},
     "output_type": "execute_result"
    }
   ],
   "source": [
    "title=driver.find_elements(By.XPATH, '//a[@class=\"title ellipsis\"]')\n",
    "for t in title[0:10]:\n",
    "    job_tit.append(t.text)\n",
    "    \n",
    "job_tit\n",
    "    "
   ]
  },
  {
   "cell_type": "code",
   "execution_count": 30,
   "id": "504f97df",
   "metadata": {},
   "outputs": [
    {
     "data": {
      "text/plain": [
       "['Bangalore/Bengaluru, Noida, Kolkata, Mumbai, Hyderabad/Secunderabad, Pune, Chennai, Gurgaon/Gurugram',\n",
       " 'Temp. WFH - Bangalore/Bengaluru, Hyderabad/Secunderabad, Pune, Chennai, Delhi / NCR, Mumbai (All Areas)',\n",
       " 'Bangalore/Bengaluru, Kolkata, Mumbai, Hyderabad/Secunderabad, Pune, Chennai',\n",
       " 'Bangalore/Bengaluru, Kolkata, Mumbai, Hyderabad/Secunderabad, Pune, Chennai',\n",
       " 'Bangalore/Bengaluru, Noida, Hyderabad/Secunderabad, Pune, Chennai, Mumbai (All Areas)',\n",
       " 'Hybrid - Bangalore/Bengaluru, Noida, Hyderabad/Secunderabad, Pune, Chennai, Mumbai (All Areas)',\n",
       " 'Bangalore/Bengaluru',\n",
       " 'Bangalore/Bengaluru',\n",
       " 'Bangalore/Bengaluru',\n",
       " 'Hybrid - Bangalore/Bengaluru, Pune']"
      ]
     },
     "execution_count": 30,
     "metadata": {},
     "output_type": "execute_result"
    }
   ],
   "source": [
    "loca=driver.find_elements(By.XPATH, '//span[@class=\"ellipsis fleft locWdth\"]')\n",
    "for l in loca[0:10]:\n",
    "    job_loc.append(l.text)\n",
    "    \n",
    "job_loc"
   ]
  },
  {
   "cell_type": "code",
   "execution_count": 31,
   "id": "a7adcfa3",
   "metadata": {},
   "outputs": [
    {
     "data": {
      "text/plain": [
       "['Capgemini',\n",
       " 'Tech Mahindra',\n",
       " 'Accenture',\n",
       " 'Accenture',\n",
       " 'Birlasoft',\n",
       " 'Birlasoft',\n",
       " 'ANZ',\n",
       " 'Walmart',\n",
       " 'ANZ',\n",
       " 'Capco']"
      ]
     },
     "execution_count": 31,
     "metadata": {},
     "output_type": "execute_result"
    }
   ],
   "source": [
    "comp=driver.find_elements(By.XPATH, '//a[@class=\"subTitle ellipsis fleft\"]')\n",
    "for c in comp[0:10]:\n",
    "    company_name.append(c.text)\n",
    "\n",
    "company_name"
   ]
  },
  {
   "cell_type": "code",
   "execution_count": 32,
   "id": "a3daa9c1",
   "metadata": {},
   "outputs": [
    {
     "data": {
      "text/html": [
       "<div>\n",
       "<style scoped>\n",
       "    .dataframe tbody tr th:only-of-type {\n",
       "        vertical-align: middle;\n",
       "    }\n",
       "\n",
       "    .dataframe tbody tr th {\n",
       "        vertical-align: top;\n",
       "    }\n",
       "\n",
       "    .dataframe thead th {\n",
       "        text-align: right;\n",
       "    }\n",
       "</style>\n",
       "<table border=\"1\" class=\"dataframe\">\n",
       "  <thead>\n",
       "    <tr style=\"text-align: right;\">\n",
       "      <th></th>\n",
       "      <th>Title</th>\n",
       "      <th>Job Location</th>\n",
       "      <th>Company Name</th>\n",
       "    </tr>\n",
       "  </thead>\n",
       "  <tbody>\n",
       "    <tr>\n",
       "      <th>0</th>\n",
       "      <td>Data Scientist</td>\n",
       "      <td>Bangalore/Bengaluru, Noida, Kolkata, Mumbai, H...</td>\n",
       "      <td>Capgemini</td>\n",
       "    </tr>\n",
       "    <tr>\n",
       "      <th>1</th>\n",
       "      <td>Data Scientist</td>\n",
       "      <td>Temp. WFH - Bangalore/Bengaluru, Hyderabad/Sec...</td>\n",
       "      <td>Tech Mahindra</td>\n",
       "    </tr>\n",
       "    <tr>\n",
       "      <th>2</th>\n",
       "      <td>Analystics &amp; Modeling Specialist</td>\n",
       "      <td>Bangalore/Bengaluru, Kolkata, Mumbai, Hyderaba...</td>\n",
       "      <td>Accenture</td>\n",
       "    </tr>\n",
       "    <tr>\n",
       "      <th>3</th>\n",
       "      <td>Data Science Specialist</td>\n",
       "      <td>Bangalore/Bengaluru, Kolkata, Mumbai, Hyderaba...</td>\n",
       "      <td>Accenture</td>\n",
       "    </tr>\n",
       "    <tr>\n",
       "      <th>4</th>\n",
       "      <td>Lead Data Scientist</td>\n",
       "      <td>Bangalore/Bengaluru, Noida, Hyderabad/Secunder...</td>\n",
       "      <td>Birlasoft</td>\n",
       "    </tr>\n",
       "    <tr>\n",
       "      <th>5</th>\n",
       "      <td>Data Scientist</td>\n",
       "      <td>Hybrid - Bangalore/Bengaluru, Noida, Hyderabad...</td>\n",
       "      <td>Birlasoft</td>\n",
       "    </tr>\n",
       "    <tr>\n",
       "      <th>6</th>\n",
       "      <td>Data Scientist</td>\n",
       "      <td>Bangalore/Bengaluru</td>\n",
       "      <td>ANZ</td>\n",
       "    </tr>\n",
       "    <tr>\n",
       "      <th>7</th>\n",
       "      <td>Staff Data Analyst</td>\n",
       "      <td>Bangalore/Bengaluru</td>\n",
       "      <td>Walmart</td>\n",
       "    </tr>\n",
       "    <tr>\n",
       "      <th>8</th>\n",
       "      <td>Data Scientist</td>\n",
       "      <td>Bangalore/Bengaluru</td>\n",
       "      <td>ANZ</td>\n",
       "    </tr>\n",
       "    <tr>\n",
       "      <th>9</th>\n",
       "      <td>Data Scientist Knowledge graph</td>\n",
       "      <td>Hybrid - Bangalore/Bengaluru, Pune</td>\n",
       "      <td>Capco</td>\n",
       "    </tr>\n",
       "  </tbody>\n",
       "</table>\n",
       "</div>"
      ],
      "text/plain": [
       "                              Title  \\\n",
       "0                    Data Scientist   \n",
       "1                    Data Scientist   \n",
       "2  Analystics & Modeling Specialist   \n",
       "3           Data Science Specialist   \n",
       "4               Lead Data Scientist   \n",
       "5                    Data Scientist   \n",
       "6                    Data Scientist   \n",
       "7                Staff Data Analyst   \n",
       "8                    Data Scientist   \n",
       "9    Data Scientist Knowledge graph   \n",
       "\n",
       "                                        Job Location   Company Name  \n",
       "0  Bangalore/Bengaluru, Noida, Kolkata, Mumbai, H...      Capgemini  \n",
       "1  Temp. WFH - Bangalore/Bengaluru, Hyderabad/Sec...  Tech Mahindra  \n",
       "2  Bangalore/Bengaluru, Kolkata, Mumbai, Hyderaba...      Accenture  \n",
       "3  Bangalore/Bengaluru, Kolkata, Mumbai, Hyderaba...      Accenture  \n",
       "4  Bangalore/Bengaluru, Noida, Hyderabad/Secunder...      Birlasoft  \n",
       "5  Hybrid - Bangalore/Bengaluru, Noida, Hyderabad...      Birlasoft  \n",
       "6                                Bangalore/Bengaluru            ANZ  \n",
       "7                                Bangalore/Bengaluru        Walmart  \n",
       "8                                Bangalore/Bengaluru            ANZ  \n",
       "9                 Hybrid - Bangalore/Bengaluru, Pune          Capco  "
      ]
     },
     "execution_count": 32,
     "metadata": {},
     "output_type": "execute_result"
    }
   ],
   "source": [
    "import pandas as pd\n",
    "ds=pd.DataFrame({'Title': job_tit, 'Job Location': job_loc, 'Company Name': company_name})\n",
    "ds"
   ]
  },
  {
   "cell_type": "code",
   "execution_count": 33,
   "id": "43d11d9e",
   "metadata": {},
   "outputs": [
    {
     "name": "stdout",
     "output_type": "stream",
     "text": [
      "Requirement already satisfied: Selenium in c:\\users\\h\\anaconda3\\lib\\site-packages (4.7.2)\n",
      "Requirement already satisfied: trio-websocket~=0.9 in c:\\users\\h\\anaconda3\\lib\\site-packages (from Selenium) (0.9.2)\n",
      "Requirement already satisfied: trio~=0.17 in c:\\users\\h\\anaconda3\\lib\\site-packages (from Selenium) (0.22.0)\n",
      "Requirement already satisfied: urllib3[socks]~=1.26 in c:\\users\\h\\anaconda3\\lib\\site-packages (from Selenium) (1.26.11)\n",
      "Requirement already satisfied: certifi>=2021.10.8 in c:\\users\\h\\anaconda3\\lib\\site-packages (from Selenium) (2022.9.14)\n",
      "Requirement already satisfied: idna in c:\\users\\h\\anaconda3\\lib\\site-packages (from trio~=0.17->Selenium) (3.3)\n",
      "Requirement already satisfied: cffi>=1.14 in c:\\users\\h\\anaconda3\\lib\\site-packages (from trio~=0.17->Selenium) (1.15.1)\n",
      "Requirement already satisfied: sniffio in c:\\users\\h\\anaconda3\\lib\\site-packages (from trio~=0.17->Selenium) (1.2.0)\n",
      "Requirement already satisfied: async-generator>=1.9 in c:\\users\\h\\anaconda3\\lib\\site-packages (from trio~=0.17->Selenium) (1.10)\n",
      "Requirement already satisfied: attrs>=19.2.0 in c:\\users\\h\\anaconda3\\lib\\site-packages (from trio~=0.17->Selenium) (21.4.0)\n",
      "Requirement already satisfied: outcome in c:\\users\\h\\anaconda3\\lib\\site-packages (from trio~=0.17->Selenium) (1.2.0)\n",
      "Requirement already satisfied: sortedcontainers in c:\\users\\h\\anaconda3\\lib\\site-packages (from trio~=0.17->Selenium) (2.4.0)\n",
      "Requirement already satisfied: exceptiongroup>=1.0.0rc9 in c:\\users\\h\\anaconda3\\lib\\site-packages (from trio~=0.17->Selenium) (1.1.0)\n",
      "Requirement already satisfied: wsproto>=0.14 in c:\\users\\h\\anaconda3\\lib\\site-packages (from trio-websocket~=0.9->Selenium) (1.2.0)\n",
      "Requirement already satisfied: PySocks!=1.5.7,<2.0,>=1.5.6 in c:\\users\\h\\anaconda3\\lib\\site-packages (from urllib3[socks]~=1.26->Selenium) (1.7.1)\n",
      "Requirement already satisfied: pycparser in c:\\users\\h\\anaconda3\\lib\\site-packages (from cffi>=1.14->trio~=0.17->Selenium) (2.21)\n",
      "Requirement already satisfied: h11<1,>=0.9.0 in c:\\users\\h\\anaconda3\\lib\\site-packages (from wsproto>=0.14->trio-websocket~=0.9->Selenium) (0.14.0)\n"
     ]
    }
   ],
   "source": [
    "# Question 3\n",
    "!pip install Selenium"
   ]
  },
  {
   "cell_type": "code",
   "execution_count": 51,
   "id": "d7050d3a",
   "metadata": {},
   "outputs": [],
   "source": [
    "import selenium\n",
    "import pandas as pd\n",
    "from selenium import webdriver\n",
    "import warnings\n",
    "warnings.filterwarnings('ignore')\n",
    "from selenium.common.exceptions import StaleElementReferenceException, NoSuchElementException\n",
    "from selenium.webdriver.common.by import By\n",
    "import time"
   ]
  },
  {
   "cell_type": "code",
   "execution_count": 127,
   "id": "06af83bb",
   "metadata": {},
   "outputs": [],
   "source": [
    "driver=webdriver.Chrome(r\"C:\\Users\\h\\Desktop\\chromedriver.exe\")\n",
    "driver.get(\"https://www.naukri.com/jobs-in-india?roleTypeFilterGid=169&ctcFilter=3to6&clusters=roleGid,salaryRange\")\n"
   ]
  },
  {
   "cell_type": "code",
   "execution_count": 128,
   "id": "969e59e1",
   "metadata": {},
   "outputs": [
    {
     "name": "stdout",
     "output_type": "stream",
     "text": [
      "10 10 10 10\n"
     ]
    }
   ],
   "source": [
    "#job-title, job-location, company name, experience required.\n",
    "work_tit=[]\n",
    "work_loc=[]\n",
    "work_name=[]\n",
    "work_exp=[]\n",
    "\n",
    "work_t=driver.find_elements(By.XPATH, '//a[@class=\"title ellipsis\"]')\n",
    "work_l=driver.find_elements(By.XPATH, '//span[@class=\"ellipsis fleft locWdth\"]')\n",
    "work_n=driver.find_elements(By.XPATH, '//a[@class=\"subTitle ellipsis fleft\"]')\n",
    "work_e=driver.find_elements(By.XPATH, '//span[@class=\"ellipsis fleft expwdth\"]')\n",
    "\n",
    "for i in work_t[0:10]:\n",
    "    work_tit.append(i.text)\n",
    "for i in work_l[0:10]:\n",
    "    work_loc.append(i.text)\n",
    "for i in work_n[0:10]:\n",
    "    work_name.append(i.text)\n",
    "for i in work_e[0:10]:\n",
    "    work_exp.append(i.text)\n",
    "    \n",
    "print(len(work_tit), len(work_loc), len(work_name), len(work_exp))"
   ]
  },
  {
   "cell_type": "code",
   "execution_count": 130,
   "id": "09b53be5",
   "metadata": {},
   "outputs": [
    {
     "data": {
      "text/html": [
       "<div>\n",
       "<style scoped>\n",
       "    .dataframe tbody tr th:only-of-type {\n",
       "        vertical-align: middle;\n",
       "    }\n",
       "\n",
       "    .dataframe tbody tr th {\n",
       "        vertical-align: top;\n",
       "    }\n",
       "\n",
       "    .dataframe thead th {\n",
       "        text-align: right;\n",
       "    }\n",
       "</style>\n",
       "<table border=\"1\" class=\"dataframe\">\n",
       "  <thead>\n",
       "    <tr style=\"text-align: right;\">\n",
       "      <th></th>\n",
       "      <th>Job Title</th>\n",
       "      <th>JOb Location</th>\n",
       "      <th>Company Name</th>\n",
       "      <th>Experience Required</th>\n",
       "    </tr>\n",
       "  </thead>\n",
       "  <tbody>\n",
       "    <tr>\n",
       "      <th>0</th>\n",
       "      <td>Data Science Specialist</td>\n",
       "      <td>Kolkata, Mumbai, Hyderabad/Secunderabad, Pune,...</td>\n",
       "      <td>Accenture</td>\n",
       "      <td>2-4 Yrs</td>\n",
       "    </tr>\n",
       "    <tr>\n",
       "      <th>1</th>\n",
       "      <td>Data Scientist</td>\n",
       "      <td>Bangalore/Bengaluru</td>\n",
       "      <td>ANZ</td>\n",
       "      <td>2-6 Yrs</td>\n",
       "    </tr>\n",
       "    <tr>\n",
       "      <th>2</th>\n",
       "      <td>Data Scientist</td>\n",
       "      <td>Bangalore/Bengaluru</td>\n",
       "      <td>Infosys</td>\n",
       "      <td>3-5 Yrs</td>\n",
       "    </tr>\n",
       "    <tr>\n",
       "      <th>3</th>\n",
       "      <td>Software Engineer Staff</td>\n",
       "      <td>Bangalore/Bengaluru</td>\n",
       "      <td>Juniper Networks</td>\n",
       "      <td>3-8 Yrs</td>\n",
       "    </tr>\n",
       "    <tr>\n",
       "      <th>4</th>\n",
       "      <td>Analyst-Data Science</td>\n",
       "      <td>Gurgaon/Gurugram</td>\n",
       "      <td>AMERICAN EXPRESS</td>\n",
       "      <td>0-3 Yrs</td>\n",
       "    </tr>\n",
       "    <tr>\n",
       "      <th>5</th>\n",
       "      <td>Technology Analyst - Data Science / Machine Le...</td>\n",
       "      <td>Bangalore/Bengaluru</td>\n",
       "      <td>Infosys</td>\n",
       "      <td>3-5 Yrs</td>\n",
       "    </tr>\n",
       "    <tr>\n",
       "      <th>6</th>\n",
       "      <td>Data Scientist/Sr. Data Scientist</td>\n",
       "      <td>Bangalore/Bengaluru</td>\n",
       "      <td>Synechron</td>\n",
       "      <td>5-10 Yrs</td>\n",
       "    </tr>\n",
       "    <tr>\n",
       "      <th>7</th>\n",
       "      <td>Data Scientist - 2</td>\n",
       "      <td>Bangalore/Bengaluru</td>\n",
       "      <td>24 7 ai</td>\n",
       "      <td>1-3 Yrs</td>\n",
       "    </tr>\n",
       "    <tr>\n",
       "      <th>8</th>\n",
       "      <td>Analyst - Data Scientist</td>\n",
       "      <td>Mumbai</td>\n",
       "      <td>UPL Limited</td>\n",
       "      <td>2-3 Yrs</td>\n",
       "    </tr>\n",
       "    <tr>\n",
       "      <th>9</th>\n",
       "      <td>Lead Data Scientist</td>\n",
       "      <td>Bangalore/Bengaluru</td>\n",
       "      <td>Yulu</td>\n",
       "      <td>1-2 Yrs</td>\n",
       "    </tr>\n",
       "  </tbody>\n",
       "</table>\n",
       "</div>"
      ],
      "text/plain": [
       "                                           Job Title  \\\n",
       "0                            Data Science Specialist   \n",
       "1                                     Data Scientist   \n",
       "2                                     Data Scientist   \n",
       "3                            Software Engineer Staff   \n",
       "4                               Analyst-Data Science   \n",
       "5  Technology Analyst - Data Science / Machine Le...   \n",
       "6                  Data Scientist/Sr. Data Scientist   \n",
       "7                                 Data Scientist - 2   \n",
       "8                           Analyst - Data Scientist   \n",
       "9                                Lead Data Scientist   \n",
       "\n",
       "                                        JOb Location      Company Name  \\\n",
       "0  Kolkata, Mumbai, Hyderabad/Secunderabad, Pune,...         Accenture   \n",
       "1                                Bangalore/Bengaluru               ANZ   \n",
       "2                                Bangalore/Bengaluru           Infosys   \n",
       "3                                Bangalore/Bengaluru  Juniper Networks   \n",
       "4                                   Gurgaon/Gurugram  AMERICAN EXPRESS   \n",
       "5                                Bangalore/Bengaluru           Infosys   \n",
       "6                                Bangalore/Bengaluru         Synechron   \n",
       "7                                Bangalore/Bengaluru           24 7 ai   \n",
       "8                                             Mumbai       UPL Limited   \n",
       "9                                Bangalore/Bengaluru              Yulu   \n",
       "\n",
       "  Experience Required  \n",
       "0             2-4 Yrs  \n",
       "1             2-6 Yrs  \n",
       "2             3-5 Yrs  \n",
       "3             3-8 Yrs  \n",
       "4             0-3 Yrs  \n",
       "5             3-5 Yrs  \n",
       "6            5-10 Yrs  \n",
       "7             1-3 Yrs  \n",
       "8             2-3 Yrs  \n",
       "9             1-2 Yrs  "
      ]
     },
     "execution_count": 130,
     "metadata": {},
     "output_type": "execute_result"
    }
   ],
   "source": [
    "import pandas as pd\n",
    "threetosix=pd.DataFrame({'Job Title': work_tit, 'JOb Location': work_loc,'Company Name':work_name,'Experience Required': work_exp})\n",
    "threetosix"
   ]
  },
  {
   "cell_type": "code",
   "execution_count": 56,
   "id": "62f6c3d9",
   "metadata": {},
   "outputs": [
    {
     "name": "stdout",
     "output_type": "stream",
     "text": [
      "Requirement already satisfied: Selenium in c:\\users\\h\\anaconda3\\lib\\site-packages (4.7.2)\n",
      "Requirement already satisfied: trio~=0.17 in c:\\users\\h\\anaconda3\\lib\\site-packages (from Selenium) (0.22.0)\n",
      "Requirement already satisfied: trio-websocket~=0.9 in c:\\users\\h\\anaconda3\\lib\\site-packages (from Selenium) (0.9.2)\n",
      "Requirement already satisfied: urllib3[socks]~=1.26 in c:\\users\\h\\anaconda3\\lib\\site-packages (from Selenium) (1.26.11)\n",
      "Requirement already satisfied: certifi>=2021.10.8 in c:\\users\\h\\anaconda3\\lib\\site-packages (from Selenium) (2022.9.14)\n",
      "Requirement already satisfied: attrs>=19.2.0 in c:\\users\\h\\anaconda3\\lib\\site-packages (from trio~=0.17->Selenium) (21.4.0)\n",
      "Requirement already satisfied: sniffio in c:\\users\\h\\anaconda3\\lib\\site-packages (from trio~=0.17->Selenium) (1.2.0)\n",
      "Requirement already satisfied: sortedcontainers in c:\\users\\h\\anaconda3\\lib\\site-packages (from trio~=0.17->Selenium) (2.4.0)\n",
      "Requirement already satisfied: idna in c:\\users\\h\\anaconda3\\lib\\site-packages (from trio~=0.17->Selenium) (3.3)\n",
      "Requirement already satisfied: cffi>=1.14 in c:\\users\\h\\anaconda3\\lib\\site-packages (from trio~=0.17->Selenium) (1.15.1)\n",
      "Requirement already satisfied: exceptiongroup>=1.0.0rc9 in c:\\users\\h\\anaconda3\\lib\\site-packages (from trio~=0.17->Selenium) (1.1.0)\n",
      "Requirement already satisfied: async-generator>=1.9 in c:\\users\\h\\anaconda3\\lib\\site-packages (from trio~=0.17->Selenium) (1.10)\n",
      "Requirement already satisfied: outcome in c:\\users\\h\\anaconda3\\lib\\site-packages (from trio~=0.17->Selenium) (1.2.0)\n",
      "Requirement already satisfied: wsproto>=0.14 in c:\\users\\h\\anaconda3\\lib\\site-packages (from trio-websocket~=0.9->Selenium) (1.2.0)\n",
      "Requirement already satisfied: PySocks!=1.5.7,<2.0,>=1.5.6 in c:\\users\\h\\anaconda3\\lib\\site-packages (from urllib3[socks]~=1.26->Selenium) (1.7.1)\n",
      "Requirement already satisfied: pycparser in c:\\users\\h\\anaconda3\\lib\\site-packages (from cffi>=1.14->trio~=0.17->Selenium) (2.21)\n",
      "Requirement already satisfied: h11<1,>=0.9.0 in c:\\users\\h\\anaconda3\\lib\\site-packages (from wsproto>=0.14->trio-websocket~=0.9->Selenium) (0.14.0)\n"
     ]
    }
   ],
   "source": [
    "#question 4\n",
    "!pip install Selenium"
   ]
  },
  {
   "cell_type": "code",
   "execution_count": 57,
   "id": "0c8bf638",
   "metadata": {},
   "outputs": [],
   "source": [
    "import selenium\n",
    "import pandas as pd\n",
    "from selenium import webdriver\n",
    "import warnings\n",
    "warnings.filterwarnings('ignore')\n",
    "from selenium.common.exceptions import StaleElementReferenceException, NoSuchElementException\n",
    "from selenium.webdriver.common.by import By\n",
    "import time"
   ]
  },
  {
   "cell_type": "code",
   "execution_count": 58,
   "id": "19c4c68a",
   "metadata": {},
   "outputs": [],
   "source": [
    "driver=webdriver.Chrome(r\"C:\\Users\\h\\Desktop\\chromedriver.exe\")\n",
    "driver.get(\"https://www.flipkart.com/\")\n"
   ]
  },
  {
   "cell_type": "code",
   "execution_count": 61,
   "id": "b6c5b81f",
   "metadata": {},
   "outputs": [],
   "source": [
    "product=driver.find_element(By.CLASS_NAME, \"_3704LK\")\n",
    "product.send_keys('Sunglasses')"
   ]
  },
  {
   "cell_type": "code",
   "execution_count": 62,
   "id": "386cc36b",
   "metadata": {},
   "outputs": [],
   "source": [
    "sear=driver.find_element(By.CLASS_NAME, \"_34RNph\")\n",
    "sear.click()"
   ]
  },
  {
   "cell_type": "code",
   "execution_count": 63,
   "id": "e7a851ff",
   "metadata": {},
   "outputs": [],
   "source": [
    "#Brand,ProductDescription Price\n",
    "Brand=[]\n",
    "product=[]\n",
    "price=[]"
   ]
  },
  {
   "cell_type": "code",
   "execution_count": 83,
   "id": "4c18c68b",
   "metadata": {},
   "outputs": [],
   "source": [
    "start=0\n",
    "end=3\n",
    "for page in range(start, end):\n",
    "    br=driver.find_elements(By.XPATH,'//div[@class=\"_2WkVRV\"]')\n",
    "    pr=driver.find_elements(By.XPATH, '//a[@class=\"IRpwTa\"]')\n",
    "    pri=driver.find_elements(By.XPATH, '//div[@class=\"_30jeq3\"]')\n",
    "for b in br:\n",
    "    Brand.append(b.text)\n",
    "for p in pr:\n",
    "    product.append(p.text)\n",
    "for pi in pri:\n",
    "    price.append(pi.text)\n",
    "\n",
    "nextButton=driver.find_element(By.XPATH,'//a[@class=\"_1LKTO3\"]')\n",
    "nextButton.click()\n",
    "time.sleep(4)"
   ]
  },
  {
   "cell_type": "code",
   "execution_count": 84,
   "id": "b783467c",
   "metadata": {},
   "outputs": [
    {
     "name": "stdout",
     "output_type": "stream",
     "text": [
      "['ROZZETTA CRAFT', 'ROZZETTA CRAFT', 'Fastrack', 'Elligator', 'Fastrack', 'Elligator', 'Elligator', 'ROZZETTA CRAFT', 'PHENOMENAL', 'LIZA ANGEL', 'Elligator', 'Silver Kartz', 'VINCENT CHASE', 'SRPM', 'SRPM', 'hayden haiza', 'PIRASO', 'PIRASO', 'SHAAH COLLECTIONS', 'ROZZETTA CRAFT', 'New Specs', 'LIZA ANGEL', 'SUNBEE', 'ARICKS', 'Fastrack', 'Fastrack', 'PIRASO', 'Eyewearlabs', 'PIRASO', 'LIZA ANGEL', 'VINCENT CHASE', 'Eyewearlabs', 'SRPM', 'EYELLUSION', 'Fastrack', 'PHENOMENAL', 'PIRASO', 'ROZZETTA CRAFT', 'Sewell', 'Silver Kartz', 'ROZZETTA CRAFT', 'Elligator', 'Fastrack', 'RESIST EYEWEAR', 'SUNBEE', 'VINCENT CHASE', 'PIRASO', 'Resist', 'Fastrack', 'NuVew', 'Elligator', 'ROZZETTA CRAFT', 'Elligator', 'PIRASO', 'PIRASO', 'ROZZETTA CRAFT', 'New Specs', 'ROZZETTA CRAFT', 'ROYAL SON', 'hayden haiza', 'VINCENT CHASE', 'Satyam Kraft', 'kingsunglasses', 'Silver Kartz', 'Fastrack', 'Elligator', 'Fastrack', 'ROZZETTA CRAFT', 'Fastrack', 'VINCENT CHASE', 'Fastrack', 'ARICKS', 'SUNBEE', 'PIRASO', 'NuVew', 'Silver Kartz', 'LIZA ANGEL', 'Elligator', 'kingsunglasses', 'PHENOMENAL', 'IZAAN MART', 'PROVOGUE', 'Fastrack', 'Elligator', 'Fastrack', 'Elligator', 'Elligator', 'Eyewearlabs', 'PHENOMENAL', 'LIZA ANGEL', 'VINCENT CHASE', 'IZAAN MART', 'Elligator', 'SRPM', 'PIRASO', 'IZAAN MART', 'SRPM', 'SHAAH COLLECTIONS', 'PIRASO', 'New Specs', 'New Specs', 'LIZA ANGEL', 'SUNBEE', 'ROYAL SON', 'ROZZETTA CRAFT', 'Fastrack', 'PIRASO', 'Eyewearlabs', 'Fastrack', 'SRPM', 'EYELLUSION', 'PROVOGUE', 'PIRASO', 'LIZA ANGEL', 'VINCENT CHASE', 'ROYAL SON', 'PIRASO', 'Fastrack', 'ROZZETTA CRAFT', 'Eyewearlabs', 'ROZZETTA CRAFT', 'Elligator', 'SUNBEE', 'SRPM', 'PIRASO', 'VINCENT CHASE', 'Fastrack', 'SRPM', 'Fastrack', 'NuVew', 'Elligator', 'Elligator', 'Elligator', 'ROZZETTA CRAFT', 'PIRASO', 'Elligator', 'PIRASO', 'New Specs', 'VINCENT CHASE', 'ROZZETTA CRAFT', 'ROYAL SON', 'Satyam Kraft', 'Fastrack', 'ROZZETTA CRAFT', 'Fastrack', 'kingsunglasses', 'Fastrack', 'Elligator', 'SUNBEE', 'Fastrack', 'VINCENT CHASE', 'Elligator', 'Anemone', 'EYELLUSION', 'NuVew', 'hayden haiza', 'ROYAL SON', 'LIZA ANGEL', 'PIRASO', 'Silver Kartz', 'ROZZETTA CRAFT', 'Elligator', 'SUNBEE', 'SRPM', 'PIRASO', 'VINCENT CHASE', 'Fastrack', 'SRPM', 'Fastrack', 'NuVew', 'Elligator', 'Elligator', 'Elligator', 'ROZZETTA CRAFT', 'PIRASO', 'Elligator', 'PIRASO', 'New Specs', 'VINCENT CHASE', 'ROZZETTA CRAFT', 'ROYAL SON', 'Satyam Kraft', 'Fastrack', 'ROZZETTA CRAFT', 'Fastrack', 'kingsunglasses', 'Fastrack', 'Elligator', 'SUNBEE', 'Fastrack', 'VINCENT CHASE', 'Elligator', 'Anemone', 'EYELLUSION', 'NuVew', 'hayden haiza', 'ROYAL SON', 'LIZA ANGEL', 'PIRASO', 'Silver Kartz', 'ROZZETTA CRAFT', 'ROZZETTA CRAFT', 'Fastrack', 'Elligator', 'Fastrack', 'Elligator', 'PHENOMENAL', 'Resist', 'LIZA ANGEL', 'Elligator', 'VINCENT CHASE', 'Silver Kartz', 'SRPM', 'PIRASO', 'SRPM', 'ROZZETTA CRAFT', 'SHAAH COLLECTIONS', 'kingsunglasses', 'PIRASO', 'ARICKS', 'New Specs', 'SUNBEE', 'Fastrack', 'Eyewearlabs', 'ROZZETTA CRAFT', 'Fastrack', 'PIRASO', 'PHENOMENAL', 'SRPM', 'EYELLUSION', 'PIRASO', 'PHENOMENAL', 'PIRASO', 'Fastrack', 'ROZZETTA CRAFT', 'Silver Kartz', 'Sewell', 'Elligator', 'SUNBEE', 'Intellilens', 'Sewell', 'Elligator', 'Fastrack', 'Resist', 'PIRASO', 'VINCENT CHASE', 'SUNBEE', 'ROZZETTA CRAFT', 'Elligator', 'Elligator', 'Fastrack', 'hayden haiza', 'NuVew', 'PIRASO', 'ROZZETTA CRAFT', 'PROVOGUE', 'New Specs', 'PIRASO', 'VINCENT CHASE', 'Eyewearlabs', 'ROYAL SON', 'Elligator', 'Fastrack', 'Soul Hub', 'kingsunglasses', 'Satyam Kraft', 'Fastrack', 'ROZZETTA CRAFT', 'VINCENT CHASE', 'ROZZETTA CRAFT', 'Fastrack', 'IZAAN MART', 'SUNBEE', 'Fastrack', 'VINCENT CHASE', 'ROZZETTA CRAFT', 'Elligator', 'kingsunglasses', 'PIRASO', 'NuVew']\n",
      "['Polarized, Riding Glasses Sports, Wrap-around Sunglasse...', 'Others Cat-eye, Retro Square, Wayfarer Sunglasses (54)', 'UV Protection Cat-eye Sunglasses (Free Size)', 'UV Protection Wayfarer Sunglasses (53)', 'Polarized Wrap-around Sunglasses (45)', 'Polarized, UV Protection Round Sunglasses (51)', 'UV Protection Shield Sunglasses (Free Size)', 'Riding Glasses, Mirrored Wayfarer Sunglasses (54)', 'Gradient, UV Protection Wayfarer Sunglasses (Free Size)', 'UV Protection, Mirrored Wayfarer Sunglasses (58)', 'UV Protection Round Sunglasses (53)', 'UV Protection Wayfarer Sunglasses (53)', 'UV Protection Aviator, Wayfarer Sunglasses (54)', 'UV Protection Aviator Sunglasses (62)', 'UV Protection Over-sized Sunglasses (65)', 'UV Protection Sports Sunglasses (54)', 'UV Protection Wayfarer Sunglasses (32)', 'UV Protection Retro Square Sunglasses (Free Size)', 'by Lenskart Polarized, UV Protection Aviator Sunglasses...', 'UV Protection, Gradient Round Sunglasses (Free Size)', 'UV Protection Rectangular, Retro Square Sunglasses (58)', 'Others Spectacle Sunglasses (Free Size)', 'UV Protection Aviator Sunglasses (58)', 'UV Protection, Gradient Rectangular Sunglasses (Free Si...', 'UV Protection Wayfarer Sunglasses (Free Size)', 'UV Protection, Night Vision Wayfarer Sunglasses (Free S...', 'UV Protection Wayfarer Sunglasses (Free Size)', 'UV Protection Round Sunglasses (53)', 'UV Protection, Polarized Wayfarer Sunglasses (Free Size...', 'UV Protection Wayfarer Sunglasses (Free Size)', 'Polarized, UV Protection Round Sunglasses (50)', 'UV Protection, Mirrored Wayfarer Sunglasses (54)', 'UV Protection, Gradient Rectangular, Spectacle Sunglas...', 'UV Protection, Riding Glasses, Gradient Aviator Sunglas...', 'UV Protection, Mirrored Aviator Sunglasses (58)', 'Mirrored Aviator Sunglasses (55)', 'UV Protection, Night Vision, Riding Glasses Wayfarer Su...', 'Others Retro Square Sunglasses (66)', 'UV Protection Aviator Sunglasses (88)', 'UV Protection, Gradient Round Sunglasses (Free Size)', 'UV Protection, Gradient Rectangular Sunglasses (Free Si...', 'UV Protection Wayfarer Sunglasses (Free Size)', 'UV Protection Cat-eye, Retro Square, Oval, Round Sungla...', 'UV Protection Rectangular Sunglasses (Free Size)', 'UV Protection Cat-eye, Retro Square, Oval, Round Sungla...', 'UV Protection Retro Square Sunglasses (53)', 'Toughened Glass Lens, UV Protection, Riding Glasses, Ph...', 'Riding Glasses, Night Vision Spectacle Sunglasses (Fre...', 'UV Protection Round Sunglasses (53)', 'UV Protection Wayfarer Sunglasses (59)', 'UV Protection Aviator Sunglasses (88)', 'UV Protection Wayfarer Sunglasses (50)', 'UV Protection Aviator Sunglasses (58)', 'Night Vision, UV Protection Round Sunglasses (54)', 'UV Protection Spectacle Sunglasses (Free Size)', 'UV Protection, Polarized, Mirrored Rectangular Sunglass...', 'UV Protection Retro Square Sunglasses (Free Size)', 'UV Protection Rectangular Sunglasses (52)', 'UV Protection, Polarized Rectangular Sunglasses (Free S...', 'UV Protection Rectangular Sunglasses (Free Size)', 'UV Protection Rectangular Sunglasses (Free Size)', 'UV Protection Aviator Sunglasses (Free Size)', 'Polarized, UV Protection Round Sunglasses (51)', 'UV Protection Aviator Sunglasses (55)', 'Gradient, UV Protection Wayfarer Sunglasses (Free Size)', 'UV Protection Clubmaster Sunglasses (54)', 'UV Protection Retro Square Sunglasses (53)', 'Others Wayfarer, Retro Square Sunglasses (50)', 'Night Vision, Polarized, UV Protection, Riding Glasses ...', 'UV Protection Aviator Sunglasses (54)', 'UV Protection Retro Square Sunglasses (Free Size)', 'UV Protection Aviator Sunglasses (Free Size)', 'UV Protection Wayfarer Sunglasses (Free Size)', 'Polarized, Riding Glasses Sports, Wrap-around Sunglasse...', 'UV Protection Wayfarer Sunglasses (Free Size)', 'Mirrored, Night Vision, UV Protection, Riding Glasses S...', 'Others Cat-eye, Retro Square, Wayfarer Sunglasses (54)', 'UV Protection Cat-eye Sunglasses (Free Size)', 'UV Protection, Polarized Aviator Sunglasses (Free Size)', 'Mirrored, Night Vision, UV Protection, Riding Glasses S...', 'Others Cat-eye, Retro Square, Wayfarer Sunglasses (54)', 'UV Protection Shield Sunglasses (Free Size)', 'Polarized Wayfarer Sunglasses (Free Size)', 'Polarized Wrap-around Sunglasses (45)', 'Polarized, UV Protection Round Sunglasses (51)', 'UV Protection Cat-eye Sunglasses (Free Size)', 'UV Protection, Gradient Retro Square Sunglasses (Free S...', 'UV Protection Round Sunglasses (53)', 'UV Protection Aviator, Wayfarer Sunglasses (54)', 'Gradient, UV Protection Wayfarer Sunglasses (Free Size)', 'UV Protection, Mirrored Wayfarer Sunglasses (58)', 'UV Protection Wayfarer Sunglasses (32)', 'UV Protection Aviator Sunglasses (62)', 'UV Protection Retro Square Sunglasses (Free Size)', 'UV Protection Over-sized Sunglasses (65)', 'by Lenskart Polarized, UV Protection Aviator Sunglasses...', 'Polarized, UV Protection Retro Square Sunglasses (55)', 'UV Protection Rectangular, Retro Square Sunglasses (58)', 'UV Protection Wayfarer Sunglasses (53)', 'UV Protection Aviator Sunglasses (58)', 'UV Protection, Night Vision Wayfarer Sunglasses (Free S...', 'Others Spectacle Sunglasses (Free Size)', 'UV Protection Wayfarer Sunglasses (Free Size)', 'UV Protection, Gradient Retro Square Sunglasses (Free S...', 'Polarized, UV Protection Round Sunglasses (50)', 'UV Protection, Gradient Rectangular Sunglasses (Free Si...', 'UV Protection Wayfarer Sunglasses (Free Size)', 'UV Protection, Night Vision Aviator Sunglasses (Free Si...', 'UV Protection, Polarized Wayfarer Sunglasses (Free Size...', 'UV Protection Wayfarer Sunglasses (Free Size)', 'by Lenskart Polarized, UV Protection Rectangular Sungla...', 'UV Protection Shield Sunglasses (Free Size)', 'UV Protection, Mirrored Wayfarer Sunglasses (54)', 'UV Protection Rectangular Sunglasses (Free Size)', 'Others Retro Square Sunglasses (66)', 'UV Protection Wayfarer Sunglasses (60)']\n",
      "['₹497', '₹149', '₹129', '₹199', '₹397', '₹999', '₹579', '₹179', '₹519', '₹108', '₹149', '₹179', '₹149', '₹649', '₹342', '₹129', '₹214', '₹129', '₹699', '₹399', '₹497', '₹299', '₹839', '₹447', '₹519', '₹281', '₹579', '₹149', '₹283', '₹649', '₹949', '₹179', '₹492', '₹159', '₹112', '₹291', '₹398', '₹210', '₹214', '₹266', '₹399', '₹423', '₹599', '₹149', '₹499', '₹129', '₹129', '₹1,399', '₹174', '₹149', '₹599', '₹266', '₹149', '₹274', '₹179', '₹398', '₹129', '₹129', '₹182', '₹259', '₹259', '₹129', '₹579', '₹1,614', '₹649', '₹579', '₹257', '₹299', '₹129', '₹281', '₹244', '₹363', '₹268', '₹579', '₹497', '₹284', '₹280', '₹149', '₹129', '₹499', '₹280', '₹149', '₹579', '₹1,399', '₹397', '₹999', '₹129', '₹521', '₹149', '₹149', '₹519', '₹291', '₹108', '₹214', '₹649', '₹629', '₹129', '₹342', '₹699', '₹1,604', '₹497', '₹179', '₹839', '₹1,215', '₹281', '₹299', '₹519', '₹521', '₹949', '₹423', '₹579', '₹375', '₹283', '₹649', '₹679', '₹499', '₹179', '₹196', '₹214', '₹398']\n"
     ]
    }
   ],
   "source": [
    "print(Brand)\n",
    "print(product)\n",
    "print(price)"
   ]
  },
  {
   "cell_type": "code",
   "execution_count": 85,
   "id": "c43bacee",
   "metadata": {},
   "outputs": [
    {
     "data": {
      "text/plain": [
       "280"
      ]
     },
     "execution_count": 85,
     "metadata": {},
     "output_type": "execute_result"
    }
   ],
   "source": [
    "len(Brand)"
   ]
  },
  {
   "cell_type": "code",
   "execution_count": 86,
   "id": "52a1d9a0",
   "metadata": {},
   "outputs": [
    {
     "data": {
      "text/plain": [
       "116"
      ]
     },
     "execution_count": 86,
     "metadata": {},
     "output_type": "execute_result"
    }
   ],
   "source": [
    "len(product)"
   ]
  },
  {
   "cell_type": "code",
   "execution_count": 87,
   "id": "0795e62b",
   "metadata": {},
   "outputs": [
    {
     "data": {
      "text/plain": [
       "120"
      ]
     },
     "execution_count": 87,
     "metadata": {},
     "output_type": "execute_result"
    }
   ],
   "source": [
    "len(price)"
   ]
  },
  {
   "cell_type": "code",
   "execution_count": 88,
   "id": "5a97a1cf",
   "metadata": {},
   "outputs": [
    {
     "data": {
      "text/plain": [
       "['ROZZETTA CRAFT',\n",
       " 'ROZZETTA CRAFT',\n",
       " 'Fastrack',\n",
       " 'Elligator',\n",
       " 'Fastrack',\n",
       " 'Elligator',\n",
       " 'Elligator',\n",
       " 'ROZZETTA CRAFT',\n",
       " 'PHENOMENAL',\n",
       " 'LIZA ANGEL',\n",
       " 'Elligator',\n",
       " 'Silver Kartz',\n",
       " 'VINCENT CHASE',\n",
       " 'SRPM',\n",
       " 'SRPM',\n",
       " 'hayden haiza',\n",
       " 'PIRASO',\n",
       " 'PIRASO',\n",
       " 'SHAAH COLLECTIONS',\n",
       " 'ROZZETTA CRAFT',\n",
       " 'New Specs',\n",
       " 'LIZA ANGEL',\n",
       " 'SUNBEE',\n",
       " 'ARICKS',\n",
       " 'Fastrack',\n",
       " 'Fastrack',\n",
       " 'PIRASO',\n",
       " 'Eyewearlabs',\n",
       " 'PIRASO',\n",
       " 'LIZA ANGEL',\n",
       " 'VINCENT CHASE',\n",
       " 'Eyewearlabs',\n",
       " 'SRPM',\n",
       " 'EYELLUSION',\n",
       " 'Fastrack',\n",
       " 'PHENOMENAL',\n",
       " 'PIRASO',\n",
       " 'ROZZETTA CRAFT',\n",
       " 'Sewell',\n",
       " 'Silver Kartz',\n",
       " 'ROZZETTA CRAFT',\n",
       " 'Elligator',\n",
       " 'Fastrack',\n",
       " 'RESIST EYEWEAR',\n",
       " 'SUNBEE',\n",
       " 'VINCENT CHASE',\n",
       " 'PIRASO',\n",
       " 'Resist',\n",
       " 'Fastrack',\n",
       " 'NuVew',\n",
       " 'Elligator',\n",
       " 'ROZZETTA CRAFT',\n",
       " 'Elligator',\n",
       " 'PIRASO',\n",
       " 'PIRASO',\n",
       " 'ROZZETTA CRAFT',\n",
       " 'New Specs',\n",
       " 'ROZZETTA CRAFT',\n",
       " 'ROYAL SON',\n",
       " 'hayden haiza',\n",
       " 'VINCENT CHASE',\n",
       " 'Satyam Kraft',\n",
       " 'kingsunglasses',\n",
       " 'Silver Kartz',\n",
       " 'Fastrack',\n",
       " 'Elligator',\n",
       " 'Fastrack',\n",
       " 'ROZZETTA CRAFT',\n",
       " 'Fastrack',\n",
       " 'VINCENT CHASE',\n",
       " 'Fastrack',\n",
       " 'ARICKS',\n",
       " 'SUNBEE',\n",
       " 'PIRASO',\n",
       " 'NuVew',\n",
       " 'Silver Kartz',\n",
       " 'LIZA ANGEL',\n",
       " 'Elligator',\n",
       " 'kingsunglasses',\n",
       " 'PHENOMENAL',\n",
       " 'IZAAN MART',\n",
       " 'PROVOGUE',\n",
       " 'Fastrack',\n",
       " 'Elligator',\n",
       " 'Fastrack',\n",
       " 'Elligator',\n",
       " 'Elligator',\n",
       " 'Eyewearlabs',\n",
       " 'PHENOMENAL',\n",
       " 'LIZA ANGEL',\n",
       " 'VINCENT CHASE',\n",
       " 'IZAAN MART',\n",
       " 'Elligator',\n",
       " 'SRPM',\n",
       " 'PIRASO',\n",
       " 'IZAAN MART',\n",
       " 'SRPM',\n",
       " 'SHAAH COLLECTIONS',\n",
       " 'PIRASO',\n",
       " 'New Specs']"
      ]
     },
     "execution_count": 88,
     "metadata": {},
     "output_type": "execute_result"
    }
   ],
   "source": [
    "nameofbrand=Brand[0:100]\n",
    "nameofbrand"
   ]
  },
  {
   "cell_type": "code",
   "execution_count": 89,
   "id": "e80c4157",
   "metadata": {},
   "outputs": [
    {
     "data": {
      "text/plain": [
       "100"
      ]
     },
     "execution_count": 89,
     "metadata": {},
     "output_type": "execute_result"
    }
   ],
   "source": [
    "len(nameofbrand)"
   ]
  },
  {
   "cell_type": "code",
   "execution_count": 90,
   "id": "b4c63ad5",
   "metadata": {},
   "outputs": [
    {
     "data": {
      "text/plain": [
       "100"
      ]
     },
     "execution_count": 90,
     "metadata": {},
     "output_type": "execute_result"
    }
   ],
   "source": [
    "productdesc=product[0:100]\n",
    "len(productdesc)"
   ]
  },
  {
   "cell_type": "code",
   "execution_count": 91,
   "id": "299024c7",
   "metadata": {},
   "outputs": [
    {
     "data": {
      "text/plain": [
       "100"
      ]
     },
     "execution_count": 91,
     "metadata": {},
     "output_type": "execute_result"
    }
   ],
   "source": [
    "cost=price[0:100]\n",
    "len(cost)"
   ]
  },
  {
   "cell_type": "code",
   "execution_count": 92,
   "id": "fd83d1b7",
   "metadata": {},
   "outputs": [
    {
     "data": {
      "text/html": [
       "<div>\n",
       "<style scoped>\n",
       "    .dataframe tbody tr th:only-of-type {\n",
       "        vertical-align: middle;\n",
       "    }\n",
       "\n",
       "    .dataframe tbody tr th {\n",
       "        vertical-align: top;\n",
       "    }\n",
       "\n",
       "    .dataframe thead th {\n",
       "        text-align: right;\n",
       "    }\n",
       "</style>\n",
       "<table border=\"1\" class=\"dataframe\">\n",
       "  <thead>\n",
       "    <tr style=\"text-align: right;\">\n",
       "      <th></th>\n",
       "      <th>Name of the Brand</th>\n",
       "      <th>Product Description</th>\n",
       "      <th>Price of the item</th>\n",
       "    </tr>\n",
       "  </thead>\n",
       "  <tbody>\n",
       "    <tr>\n",
       "      <th>0</th>\n",
       "      <td>ROZZETTA CRAFT</td>\n",
       "      <td>Polarized, Riding Glasses Sports, Wrap-around ...</td>\n",
       "      <td>₹497</td>\n",
       "    </tr>\n",
       "    <tr>\n",
       "      <th>1</th>\n",
       "      <td>ROZZETTA CRAFT</td>\n",
       "      <td>Others Cat-eye, Retro Square, Wayfarer Sunglas...</td>\n",
       "      <td>₹149</td>\n",
       "    </tr>\n",
       "    <tr>\n",
       "      <th>2</th>\n",
       "      <td>Fastrack</td>\n",
       "      <td>UV Protection Cat-eye Sunglasses (Free Size)</td>\n",
       "      <td>₹129</td>\n",
       "    </tr>\n",
       "    <tr>\n",
       "      <th>3</th>\n",
       "      <td>Elligator</td>\n",
       "      <td>UV Protection Wayfarer Sunglasses (53)</td>\n",
       "      <td>₹199</td>\n",
       "    </tr>\n",
       "    <tr>\n",
       "      <th>4</th>\n",
       "      <td>Fastrack</td>\n",
       "      <td>Polarized Wrap-around Sunglasses (45)</td>\n",
       "      <td>₹397</td>\n",
       "    </tr>\n",
       "    <tr>\n",
       "      <th>...</th>\n",
       "      <td>...</td>\n",
       "      <td>...</td>\n",
       "      <td>...</td>\n",
       "    </tr>\n",
       "    <tr>\n",
       "      <th>95</th>\n",
       "      <td>IZAAN MART</td>\n",
       "      <td>by Lenskart Polarized, UV Protection Aviator S...</td>\n",
       "      <td>₹629</td>\n",
       "    </tr>\n",
       "    <tr>\n",
       "      <th>96</th>\n",
       "      <td>SRPM</td>\n",
       "      <td>Polarized, UV Protection Retro Square Sunglass...</td>\n",
       "      <td>₹129</td>\n",
       "    </tr>\n",
       "    <tr>\n",
       "      <th>97</th>\n",
       "      <td>SHAAH COLLECTIONS</td>\n",
       "      <td>UV Protection Rectangular, Retro Square Sungla...</td>\n",
       "      <td>₹342</td>\n",
       "    </tr>\n",
       "    <tr>\n",
       "      <th>98</th>\n",
       "      <td>PIRASO</td>\n",
       "      <td>UV Protection Wayfarer Sunglasses (53)</td>\n",
       "      <td>₹699</td>\n",
       "    </tr>\n",
       "    <tr>\n",
       "      <th>99</th>\n",
       "      <td>New Specs</td>\n",
       "      <td>UV Protection Aviator Sunglasses (58)</td>\n",
       "      <td>₹1,604</td>\n",
       "    </tr>\n",
       "  </tbody>\n",
       "</table>\n",
       "<p>100 rows × 3 columns</p>\n",
       "</div>"
      ],
      "text/plain": [
       "    Name of the Brand                                Product Description  \\\n",
       "0      ROZZETTA CRAFT  Polarized, Riding Glasses Sports, Wrap-around ...   \n",
       "1      ROZZETTA CRAFT  Others Cat-eye, Retro Square, Wayfarer Sunglas...   \n",
       "2            Fastrack       UV Protection Cat-eye Sunglasses (Free Size)   \n",
       "3           Elligator             UV Protection Wayfarer Sunglasses (53)   \n",
       "4            Fastrack              Polarized Wrap-around Sunglasses (45)   \n",
       "..                ...                                                ...   \n",
       "95         IZAAN MART  by Lenskart Polarized, UV Protection Aviator S...   \n",
       "96               SRPM  Polarized, UV Protection Retro Square Sunglass...   \n",
       "97  SHAAH COLLECTIONS  UV Protection Rectangular, Retro Square Sungla...   \n",
       "98             PIRASO             UV Protection Wayfarer Sunglasses (53)   \n",
       "99          New Specs              UV Protection Aviator Sunglasses (58)   \n",
       "\n",
       "   Price of the item  \n",
       "0               ₹497  \n",
       "1               ₹149  \n",
       "2               ₹129  \n",
       "3               ₹199  \n",
       "4               ₹397  \n",
       "..               ...  \n",
       "95              ₹629  \n",
       "96              ₹129  \n",
       "97              ₹342  \n",
       "98              ₹699  \n",
       "99            ₹1,604  \n",
       "\n",
       "[100 rows x 3 columns]"
      ]
     },
     "execution_count": 92,
     "metadata": {},
     "output_type": "execute_result"
    }
   ],
   "source": [
    "import pandas as pd\n",
    "flip=pd.DataFrame({'Name of the Brand': nameofbrand, 'Product Description': productdesc, 'Price of the item': cost})\n",
    "flip"
   ]
  },
  {
   "cell_type": "code",
   "execution_count": 93,
   "id": "246dea09",
   "metadata": {},
   "outputs": [
    {
     "name": "stdout",
     "output_type": "stream",
     "text": [
      "Requirement already satisfied: selenium in c:\\users\\h\\anaconda3\\lib\\site-packages (4.7.2)\n",
      "Requirement already satisfied: urllib3[socks]~=1.26 in c:\\users\\h\\anaconda3\\lib\\site-packages (from selenium) (1.26.11)\n",
      "Requirement already satisfied: trio-websocket~=0.9 in c:\\users\\h\\anaconda3\\lib\\site-packages (from selenium) (0.9.2)\n",
      "Requirement already satisfied: certifi>=2021.10.8 in c:\\users\\h\\anaconda3\\lib\\site-packages (from selenium) (2022.9.14)\n",
      "Requirement already satisfied: trio~=0.17 in c:\\users\\h\\anaconda3\\lib\\site-packages (from selenium) (0.22.0)\n",
      "Requirement already satisfied: sortedcontainers in c:\\users\\h\\anaconda3\\lib\\site-packages (from trio~=0.17->selenium) (2.4.0)\n",
      "Requirement already satisfied: cffi>=1.14 in c:\\users\\h\\anaconda3\\lib\\site-packages (from trio~=0.17->selenium) (1.15.1)\n",
      "Requirement already satisfied: attrs>=19.2.0 in c:\\users\\h\\anaconda3\\lib\\site-packages (from trio~=0.17->selenium) (21.4.0)\n",
      "Requirement already satisfied: exceptiongroup>=1.0.0rc9 in c:\\users\\h\\anaconda3\\lib\\site-packages (from trio~=0.17->selenium) (1.1.0)\n",
      "Requirement already satisfied: outcome in c:\\users\\h\\anaconda3\\lib\\site-packages (from trio~=0.17->selenium) (1.2.0)\n",
      "Requirement already satisfied: async-generator>=1.9 in c:\\users\\h\\anaconda3\\lib\\site-packages (from trio~=0.17->selenium) (1.10)\n",
      "Requirement already satisfied: sniffio in c:\\users\\h\\anaconda3\\lib\\site-packages (from trio~=0.17->selenium) (1.2.0)\n",
      "Requirement already satisfied: idna in c:\\users\\h\\anaconda3\\lib\\site-packages (from trio~=0.17->selenium) (3.3)\n",
      "Requirement already satisfied: wsproto>=0.14 in c:\\users\\h\\anaconda3\\lib\\site-packages (from trio-websocket~=0.9->selenium) (1.2.0)\n",
      "Requirement already satisfied: PySocks!=1.5.7,<2.0,>=1.5.6 in c:\\users\\h\\anaconda3\\lib\\site-packages (from urllib3[socks]~=1.26->selenium) (1.7.1)\n",
      "Requirement already satisfied: pycparser in c:\\users\\h\\anaconda3\\lib\\site-packages (from cffi>=1.14->trio~=0.17->selenium) (2.21)\n",
      "Requirement already satisfied: h11<1,>=0.9.0 in c:\\users\\h\\anaconda3\\lib\\site-packages (from wsproto>=0.14->trio-websocket~=0.9->selenium) (0.14.0)\n"
     ]
    }
   ],
   "source": [
    "#Question 5\n",
    "#Scrape 100 reviews data from flipkart.com for iphone11 phone.\n",
    "!pip install selenium"
   ]
  },
  {
   "cell_type": "code",
   "execution_count": 94,
   "id": "143e747a",
   "metadata": {},
   "outputs": [],
   "source": [
    "import selenium\n",
    "import pandas as pd\n",
    "from selenium import webdriver\n",
    "import warnings\n",
    "warnings.filterwarnings('ignore')\n",
    "from selenium.common.exceptions import StaleElementReferenceException, NoSuchElementException\n",
    "from selenium.webdriver.common.by import By\n",
    "import time"
   ]
  },
  {
   "cell_type": "code",
   "execution_count": 95,
   "id": "36d7d23c",
   "metadata": {},
   "outputs": [],
   "source": [
    "driver=webdriver.Chrome(r\"C:\\Users\\h\\Desktop\\chromedriver.exe\")\n",
    "driver.get(\"https://www.flipkart.com/apple-iphone-11-black-64-gb-includes-earpods-power-adapter/product-reviews/itm0f37c2240b217?pid=MOBFKCTSVZAXUHGR&lid=LSTMOBFKCTSVZAXUHGREPBFGI&marketplace=FLIPKART\")"
   ]
  },
  {
   "cell_type": "code",
   "execution_count": 104,
   "id": "d00ffb6c",
   "metadata": {},
   "outputs": [],
   "source": [
    "Reviews=[]\n",
    "Fullreview=[]\n",
    "Rating=[]\n",
    "st=0\n",
    "en=10\n",
    "for pg in range(st, en):\n",
    "    resum=driver.find_elements(By.XPATH, '//p[@class=\"_2-N8zT\"]')\n",
    "    fullre=driver.find_elements(By.XPATH, '//div[@class=\"t-ZTKy\"]')\n",
    "    rat=driver.find_elements(By.XPATH, '//div[@class=\"_3LWZlK _1BLPMq\"]')\n",
    "    for r in resum:\n",
    "        Reviews.append(r.text)\n",
    "    for f in fullre:\n",
    "        Fullreview.append(f.text)\n",
    "    for ra in rat:\n",
    "        Rating.append(ra.text)\n",
    "    \n",
    "nextBut=driver.find_element(By.XPATH,'//a[@class=\"_1LKTO3\"]')\n",
    "nextBut.click()\n",
    "time.sleep(10)\n",
    "\n",
    "\n",
    "    "
   ]
  },
  {
   "cell_type": "code",
   "execution_count": 105,
   "id": "722f3f2e",
   "metadata": {},
   "outputs": [
    {
     "name": "stdout",
     "output_type": "stream",
     "text": [
      "100 100 100\n"
     ]
    }
   ],
   "source": [
    "print(len(Reviews), len (Fullreview), len(Rating))"
   ]
  },
  {
   "cell_type": "code",
   "execution_count": 106,
   "id": "c60f33b3",
   "metadata": {},
   "outputs": [
    {
     "data": {
      "text/html": [
       "<div>\n",
       "<style scoped>\n",
       "    .dataframe tbody tr th:only-of-type {\n",
       "        vertical-align: middle;\n",
       "    }\n",
       "\n",
       "    .dataframe tbody tr th {\n",
       "        vertical-align: top;\n",
       "    }\n",
       "\n",
       "    .dataframe thead th {\n",
       "        text-align: right;\n",
       "    }\n",
       "</style>\n",
       "<table border=\"1\" class=\"dataframe\">\n",
       "  <thead>\n",
       "    <tr style=\"text-align: right;\">\n",
       "      <th></th>\n",
       "      <th>Review Summary</th>\n",
       "      <th>Full Reviews</th>\n",
       "      <th>Ratings</th>\n",
       "    </tr>\n",
       "  </thead>\n",
       "  <tbody>\n",
       "    <tr>\n",
       "      <th>0</th>\n",
       "      <td>Fabulous!</td>\n",
       "      <td>This is my first iOS phone. I am very happy wi...</td>\n",
       "      <td>5</td>\n",
       "    </tr>\n",
       "    <tr>\n",
       "      <th>1</th>\n",
       "      <td>Classy product</td>\n",
       "      <td>Best and amazing product.....phone looks so pr...</td>\n",
       "      <td>5</td>\n",
       "    </tr>\n",
       "    <tr>\n",
       "      <th>2</th>\n",
       "      <td>Worth every penny</td>\n",
       "      <td>i11 is worthy to buy, too much happy with the ...</td>\n",
       "      <td>5</td>\n",
       "    </tr>\n",
       "    <tr>\n",
       "      <th>3</th>\n",
       "      <td>Value-for-money</td>\n",
       "      <td>Just got this iphone 11\\nAnd it is most powerf...</td>\n",
       "      <td>4</td>\n",
       "    </tr>\n",
       "    <tr>\n",
       "      <th>4</th>\n",
       "      <td>Perfect product!</td>\n",
       "      <td>It’s a must buy who is looking for an upgrade ...</td>\n",
       "      <td>5</td>\n",
       "    </tr>\n",
       "    <tr>\n",
       "      <th>...</th>\n",
       "      <td>...</td>\n",
       "      <td>...</td>\n",
       "      <td>...</td>\n",
       "    </tr>\n",
       "    <tr>\n",
       "      <th>95</th>\n",
       "      <td>Good choice</td>\n",
       "      <td>So far it’s been an AMAZING experience coming ...</td>\n",
       "      <td>4</td>\n",
       "    </tr>\n",
       "    <tr>\n",
       "      <th>96</th>\n",
       "      <td>Perfect product!</td>\n",
       "      <td>Value for money❤️❤️\\nIts awesome mobile phone ...</td>\n",
       "      <td>5</td>\n",
       "    </tr>\n",
       "    <tr>\n",
       "      <th>97</th>\n",
       "      <td>Perfect product!</td>\n",
       "      <td>It is just awesome mobile for this price from ...</td>\n",
       "      <td>5</td>\n",
       "    </tr>\n",
       "    <tr>\n",
       "      <th>98</th>\n",
       "      <td>Highly recommended</td>\n",
       "      <td>iphone 11 is a very good phone to buy only if ...</td>\n",
       "      <td>5</td>\n",
       "    </tr>\n",
       "    <tr>\n",
       "      <th>99</th>\n",
       "      <td>Highly recommended</td>\n",
       "      <td>Amazing camera quality as expected, battery al...</td>\n",
       "      <td>5</td>\n",
       "    </tr>\n",
       "  </tbody>\n",
       "</table>\n",
       "<p>100 rows × 3 columns</p>\n",
       "</div>"
      ],
      "text/plain": [
       "        Review Summary                                       Full Reviews  \\\n",
       "0            Fabulous!  This is my first iOS phone. I am very happy wi...   \n",
       "1       Classy product  Best and amazing product.....phone looks so pr...   \n",
       "2    Worth every penny  i11 is worthy to buy, too much happy with the ...   \n",
       "3      Value-for-money  Just got this iphone 11\\nAnd it is most powerf...   \n",
       "4     Perfect product!  It’s a must buy who is looking for an upgrade ...   \n",
       "..                 ...                                                ...   \n",
       "95         Good choice  So far it’s been an AMAZING experience coming ...   \n",
       "96    Perfect product!  Value for money❤️❤️\\nIts awesome mobile phone ...   \n",
       "97    Perfect product!  It is just awesome mobile for this price from ...   \n",
       "98  Highly recommended  iphone 11 is a very good phone to buy only if ...   \n",
       "99  Highly recommended  Amazing camera quality as expected, battery al...   \n",
       "\n",
       "   Ratings  \n",
       "0        5  \n",
       "1        5  \n",
       "2        5  \n",
       "3        4  \n",
       "4        5  \n",
       "..     ...  \n",
       "95       4  \n",
       "96       5  \n",
       "97       5  \n",
       "98       5  \n",
       "99       5  \n",
       "\n",
       "[100 rows x 3 columns]"
      ]
     },
     "execution_count": 106,
     "metadata": {},
     "output_type": "execute_result"
    }
   ],
   "source": [
    "import pandas as pd\n",
    "iphone=pd.DataFrame({'Review Summary': Reviews, 'Full Reviews': Fullreview, 'Ratings': Rating})\n",
    "iphone"
   ]
  },
  {
   "cell_type": "code",
   "execution_count": 107,
   "id": "ca23a817",
   "metadata": {},
   "outputs": [
    {
     "name": "stdout",
     "output_type": "stream",
     "text": [
      "Requirement already satisfied: selenium in c:\\users\\h\\anaconda3\\lib\\site-packages (4.7.2)\n",
      "Requirement already satisfied: certifi>=2021.10.8 in c:\\users\\h\\anaconda3\\lib\\site-packages (from selenium) (2022.9.14)\n",
      "Requirement already satisfied: trio-websocket~=0.9 in c:\\users\\h\\anaconda3\\lib\\site-packages (from selenium) (0.9.2)\n",
      "Requirement already satisfied: trio~=0.17 in c:\\users\\h\\anaconda3\\lib\\site-packages (from selenium) (0.22.0)\n",
      "Requirement already satisfied: urllib3[socks]~=1.26 in c:\\users\\h\\anaconda3\\lib\\site-packages (from selenium) (1.26.11)\n",
      "Requirement already satisfied: idna in c:\\users\\h\\anaconda3\\lib\\site-packages (from trio~=0.17->selenium) (3.3)\n",
      "Requirement already satisfied: async-generator>=1.9 in c:\\users\\h\\anaconda3\\lib\\site-packages (from trio~=0.17->selenium) (1.10)\n",
      "Requirement already satisfied: cffi>=1.14 in c:\\users\\h\\anaconda3\\lib\\site-packages (from trio~=0.17->selenium) (1.15.1)\n",
      "Requirement already satisfied: attrs>=19.2.0 in c:\\users\\h\\anaconda3\\lib\\site-packages (from trio~=0.17->selenium) (21.4.0)\n",
      "Requirement already satisfied: exceptiongroup>=1.0.0rc9 in c:\\users\\h\\anaconda3\\lib\\site-packages (from trio~=0.17->selenium) (1.1.0)\n",
      "Requirement already satisfied: sniffio in c:\\users\\h\\anaconda3\\lib\\site-packages (from trio~=0.17->selenium) (1.2.0)\n",
      "Requirement already satisfied: sortedcontainers in c:\\users\\h\\anaconda3\\lib\\site-packages (from trio~=0.17->selenium) (2.4.0)\n",
      "Requirement already satisfied: outcome in c:\\users\\h\\anaconda3\\lib\\site-packages (from trio~=0.17->selenium) (1.2.0)\n",
      "Requirement already satisfied: wsproto>=0.14 in c:\\users\\h\\anaconda3\\lib\\site-packages (from trio-websocket~=0.9->selenium) (1.2.0)\n",
      "Requirement already satisfied: PySocks!=1.5.7,<2.0,>=1.5.6 in c:\\users\\h\\anaconda3\\lib\\site-packages (from urllib3[socks]~=1.26->selenium) (1.7.1)\n",
      "Requirement already satisfied: pycparser in c:\\users\\h\\anaconda3\\lib\\site-packages (from cffi>=1.14->trio~=0.17->selenium) (2.21)\n",
      "Requirement already satisfied: h11<1,>=0.9.0 in c:\\users\\h\\anaconda3\\lib\\site-packages (from wsproto>=0.14->trio-websocket~=0.9->selenium) (0.14.0)\n"
     ]
    }
   ],
   "source": [
    "#Question 6\n",
    "#Brand, ProductDescription, Price\n",
    "!pip install selenium"
   ]
  },
  {
   "cell_type": "code",
   "execution_count": 108,
   "id": "9826a5a8",
   "metadata": {},
   "outputs": [],
   "source": [
    "import selenium\n",
    "import pandas as pd\n",
    "from selenium import webdriver\n",
    "import warnings\n",
    "warnings.filterwarnings('ignore')\n",
    "from selenium.common.exceptions import StaleElementReferenceException, NoSuchElementException\n",
    "from selenium.webdriver.common.by import By\n",
    "import time"
   ]
  },
  {
   "cell_type": "code",
   "execution_count": 110,
   "id": "55356b35",
   "metadata": {},
   "outputs": [],
   "source": [
    "driver=webdriver.Chrome(r\"C:\\Users\\h\\Desktop\\chromedriver.exe\")\n",
    "driver.get(\"https://www.flipkart.com/\")"
   ]
  },
  {
   "cell_type": "code",
   "execution_count": 111,
   "id": "23da3de6",
   "metadata": {},
   "outputs": [],
   "source": [
    "product=driver.find_element(By.CLASS_NAME, \"_3704LK\")\n",
    "product.send_keys('sneakers')"
   ]
  },
  {
   "cell_type": "code",
   "execution_count": 112,
   "id": "141beef5",
   "metadata": {},
   "outputs": [],
   "source": [
    "sear=driver.find_element(By.CLASS_NAME, \"_34RNph\")\n",
    "sear.click()"
   ]
  },
  {
   "cell_type": "code",
   "execution_count": 120,
   "id": "dbc1fd63",
   "metadata": {},
   "outputs": [],
   "source": [
    "brnd=[]\n",
    "prdesc=[]\n",
    "pricing=[]\n",
    "\n",
    "ini=0\n",
    "final=3\n",
    "for first in range(ini,final):\n",
    "    branded=driver.find_elements(By.XPATH, '//div[@class=\"_2WkVRV\"]')\n",
    "    productdescrip= driver.find_elements(By.XPATH, '//a[@class=\"IRpwTa\"]')\n",
    "    costprice=driver.find_elements(By.XPATH, '//div[@class=\"_30jeq3\"]')\n",
    "    \n",
    "    for i in branded:\n",
    "        brnd.append(i.text)\n",
    "    for i in productdescrip:\n",
    "        prdesc.append(i.text)\n",
    "    for i in costprice:\n",
    "        pricing.append(i.text)\n",
    "        \n",
    "nextBut=driver.find_element(By.XPATH,'//a[@class=\"_1LKTO3\"]')\n",
    "nextBut.click()\n",
    "time.sleep(3) "
   ]
  },
  {
   "cell_type": "code",
   "execution_count": 121,
   "id": "0ce4cda6",
   "metadata": {},
   "outputs": [
    {
     "name": "stdout",
     "output_type": "stream",
     "text": [
      "120 120 120\n"
     ]
    }
   ],
   "source": [
    "print(len(brnd), len(prdesc), len(pricing))"
   ]
  },
  {
   "cell_type": "code",
   "execution_count": 122,
   "id": "413329a2",
   "metadata": {},
   "outputs": [],
   "source": [
    "namebrand=brnd[0:100]\n",
    "pr_desc=prdesc[0:100]\n",
    "pric_ing=pricing[0:100]"
   ]
  },
  {
   "cell_type": "code",
   "execution_count": 123,
   "id": "57acfd89",
   "metadata": {},
   "outputs": [
    {
     "name": "stdout",
     "output_type": "stream",
     "text": [
      "100 100 100\n"
     ]
    }
   ],
   "source": [
    "print(len(namebrand), len(pr_desc), len(pric_ing))"
   ]
  },
  {
   "cell_type": "code",
   "execution_count": 125,
   "id": "6970cdea",
   "metadata": {},
   "outputs": [
    {
     "data": {
      "text/html": [
       "<div>\n",
       "<style scoped>\n",
       "    .dataframe tbody tr th:only-of-type {\n",
       "        vertical-align: middle;\n",
       "    }\n",
       "\n",
       "    .dataframe tbody tr th {\n",
       "        vertical-align: top;\n",
       "    }\n",
       "\n",
       "    .dataframe thead th {\n",
       "        text-align: right;\n",
       "    }\n",
       "</style>\n",
       "<table border=\"1\" class=\"dataframe\">\n",
       "  <thead>\n",
       "    <tr style=\"text-align: right;\">\n",
       "      <th></th>\n",
       "      <th>Brand Name</th>\n",
       "      <th>Product Description</th>\n",
       "      <th>Price</th>\n",
       "    </tr>\n",
       "  </thead>\n",
       "  <tbody>\n",
       "    <tr>\n",
       "      <th>0</th>\n",
       "      <td>PUMA</td>\n",
       "      <td>Skipper Sneakers For Men</td>\n",
       "      <td>₹1,639</td>\n",
       "    </tr>\n",
       "    <tr>\n",
       "      <th>1</th>\n",
       "      <td>Shozie</td>\n",
       "      <td>Stylish Sneakers Shoes for Women And Girls Sne...</td>\n",
       "      <td>₹449</td>\n",
       "    </tr>\n",
       "    <tr>\n",
       "      <th>2</th>\n",
       "      <td>asics</td>\n",
       "      <td>fuzor B Sneakers For Men</td>\n",
       "      <td>₹1,708</td>\n",
       "    </tr>\n",
       "    <tr>\n",
       "      <th>3</th>\n",
       "      <td>BRUTON</td>\n",
       "      <td>2 Combo Sneaker Shoes Sneakers For Men</td>\n",
       "      <td>₹599</td>\n",
       "    </tr>\n",
       "    <tr>\n",
       "      <th>4</th>\n",
       "      <td>DUCATI</td>\n",
       "      <td>DT-SS22-128B Sneakers For Men</td>\n",
       "      <td>₹1,559</td>\n",
       "    </tr>\n",
       "    <tr>\n",
       "      <th>...</th>\n",
       "      <td>...</td>\n",
       "      <td>...</td>\n",
       "      <td>...</td>\n",
       "    </tr>\n",
       "    <tr>\n",
       "      <th>95</th>\n",
       "      <td>BRUTON</td>\n",
       "      <td>2 Combo Sneaker Shoes Sneakers For Men</td>\n",
       "      <td>₹599</td>\n",
       "    </tr>\n",
       "    <tr>\n",
       "      <th>96</th>\n",
       "      <td>Layasa</td>\n",
       "      <td>Casual Sneakers White Shoes For Girls And Snea...</td>\n",
       "      <td>₹449</td>\n",
       "    </tr>\n",
       "    <tr>\n",
       "      <th>97</th>\n",
       "      <td>Sparx</td>\n",
       "      <td>Men White Sneakers Sneakers For Men</td>\n",
       "      <td>₹799</td>\n",
       "    </tr>\n",
       "    <tr>\n",
       "      <th>98</th>\n",
       "      <td>bacca bucci</td>\n",
       "      <td>Comfy Mid-Top Casual Chunky Streetwear Fashion...</td>\n",
       "      <td>₹1,599</td>\n",
       "    </tr>\n",
       "    <tr>\n",
       "      <th>99</th>\n",
       "      <td>Numenzo</td>\n",
       "      <td>Sneakers For Men</td>\n",
       "      <td>₹599</td>\n",
       "    </tr>\n",
       "  </tbody>\n",
       "</table>\n",
       "<p>100 rows × 3 columns</p>\n",
       "</div>"
      ],
      "text/plain": [
       "     Brand Name                                Product Description   Price\n",
       "0          PUMA                           Skipper Sneakers For Men  ₹1,639\n",
       "1        Shozie  Stylish Sneakers Shoes for Women And Girls Sne...    ₹449\n",
       "2         asics                           fuzor B Sneakers For Men  ₹1,708\n",
       "3        BRUTON             2 Combo Sneaker Shoes Sneakers For Men    ₹599\n",
       "4        DUCATI                      DT-SS22-128B Sneakers For Men  ₹1,559\n",
       "..          ...                                                ...     ...\n",
       "95       BRUTON             2 Combo Sneaker Shoes Sneakers For Men    ₹599\n",
       "96       Layasa  Casual Sneakers White Shoes For Girls And Snea...    ₹449\n",
       "97        Sparx                Men White Sneakers Sneakers For Men    ₹799\n",
       "98  bacca bucci  Comfy Mid-Top Casual Chunky Streetwear Fashion...  ₹1,599\n",
       "99      Numenzo                                   Sneakers For Men    ₹599\n",
       "\n",
       "[100 rows x 3 columns]"
      ]
     },
     "execution_count": 125,
     "metadata": {},
     "output_type": "execute_result"
    }
   ],
   "source": [
    "import pandas as pd\n",
    "sneaker=pd.DataFrame({'Brand Name': namebrand, 'Product Description': pr_desc, 'Price': pric_ing})\n",
    "sneaker"
   ]
  },
  {
   "cell_type": "code",
   "execution_count": 131,
   "id": "5ffb4f9a",
   "metadata": {},
   "outputs": [
    {
     "name": "stdout",
     "output_type": "stream",
     "text": [
      "Requirement already satisfied: selenium in c:\\users\\h\\anaconda3\\lib\\site-packages (4.7.2)\n",
      "Requirement already satisfied: certifi>=2021.10.8 in c:\\users\\h\\anaconda3\\lib\\site-packages (from selenium) (2022.9.14)\n",
      "Requirement already satisfied: urllib3[socks]~=1.26 in c:\\users\\h\\anaconda3\\lib\\site-packages (from selenium) (1.26.11)\n",
      "Requirement already satisfied: trio-websocket~=0.9 in c:\\users\\h\\anaconda3\\lib\\site-packages (from selenium) (0.9.2)\n",
      "Requirement already satisfied: trio~=0.17 in c:\\users\\h\\anaconda3\\lib\\site-packages (from selenium) (0.22.0)\n",
      "Requirement already satisfied: cffi>=1.14 in c:\\users\\h\\anaconda3\\lib\\site-packages (from trio~=0.17->selenium) (1.15.1)\n",
      "Requirement already satisfied: sortedcontainers in c:\\users\\h\\anaconda3\\lib\\site-packages (from trio~=0.17->selenium) (2.4.0)\n",
      "Requirement already satisfied: async-generator>=1.9 in c:\\users\\h\\anaconda3\\lib\\site-packages (from trio~=0.17->selenium) (1.10)\n",
      "Requirement already satisfied: attrs>=19.2.0 in c:\\users\\h\\anaconda3\\lib\\site-packages (from trio~=0.17->selenium) (21.4.0)\n",
      "Requirement already satisfied: outcome in c:\\users\\h\\anaconda3\\lib\\site-packages (from trio~=0.17->selenium) (1.2.0)\n",
      "Requirement already satisfied: exceptiongroup>=1.0.0rc9 in c:\\users\\h\\anaconda3\\lib\\site-packages (from trio~=0.17->selenium) (1.1.0)\n",
      "Requirement already satisfied: idna in c:\\users\\h\\anaconda3\\lib\\site-packages (from trio~=0.17->selenium) (3.3)\n",
      "Requirement already satisfied: sniffio in c:\\users\\h\\anaconda3\\lib\\site-packages (from trio~=0.17->selenium) (1.2.0)\n",
      "Requirement already satisfied: wsproto>=0.14 in c:\\users\\h\\anaconda3\\lib\\site-packages (from trio-websocket~=0.9->selenium) (1.2.0)\n",
      "Requirement already satisfied: PySocks!=1.5.7,<2.0,>=1.5.6 in c:\\users\\h\\anaconda3\\lib\\site-packages (from urllib3[socks]~=1.26->selenium) (1.7.1)\n",
      "Requirement already satisfied: pycparser in c:\\users\\h\\anaconda3\\lib\\site-packages (from cffi>=1.14->trio~=0.17->selenium) (2.21)\n",
      "Requirement already satisfied: h11<1,>=0.9.0 in c:\\users\\h\\anaconda3\\lib\\site-packages (from wsproto>=0.14->trio-websocket~=0.9->selenium) (0.14.0)\n"
     ]
    }
   ],
   "source": [
    "#Question 7\n",
    "!pip install selenium"
   ]
  },
  {
   "cell_type": "code",
   "execution_count": 132,
   "id": "cf4b6da9",
   "metadata": {},
   "outputs": [],
   "source": [
    "import selenium\n",
    "import pandas as pd\n",
    "from selenium import webdriver\n",
    "import warnings\n",
    "warnings.filterwarnings('ignore')\n",
    "from selenium.common.exceptions import StaleElementReferenceException, NoSuchElementException\n",
    "from selenium.webdriver.common.by import By\n",
    "import time"
   ]
  },
  {
   "cell_type": "code",
   "execution_count": 135,
   "id": "b0175d63",
   "metadata": {},
   "outputs": [],
   "source": [
    "driver=webdriver.Chrome(r\"C:\\Users\\h\\Desktop\\chromedriver.exe\")\n",
    "driver.get(\"https://www.jagranjosh.com/\")"
   ]
  },
  {
   "cell_type": "code",
   "execution_count": 136,
   "id": "a10eeffb",
   "metadata": {},
   "outputs": [],
   "source": [
    "gk=driver.find_element(By.XPATH,'/html/body/div/div[1]/div/div[1]/div/div[6]/div/div[1]/header/div[3]/ul/li[9]/a')\n",
    "gk.click()"
   ]
  },
  {
   "cell_type": "code",
   "execution_count": 137,
   "id": "02906c90",
   "metadata": {},
   "outputs": [],
   "source": [
    "prime=driver.find_element(By.XPATH, '/html/body/div/div/div/div[2]/div/div[10]/div/div/ul/li[2]/a')\n",
    "prime.click()"
   ]
  },
  {
   "cell_type": "code",
   "execution_count": 150,
   "id": "10193cc9",
   "metadata": {},
   "outputs": [
    {
     "data": {
      "text/plain": [
       "['Gulzarilal Nanda (Acting)']"
      ]
     },
     "execution_count": 150,
     "metadata": {},
     "output_type": "execute_result"
    }
   ],
   "source": [
    "nameofpm=[]\n",
    "born=[]\n",
    "too=[]\n",
    "remark=[]\n",
    "\n",
    "na=driver.find_elements(By.XPATH,'/html/body/div[1]/div[2]/div/div[2]/div/div[1]/div/div/div/div[4]/span/div[2]/table/tbody/tr[3]/td[2]/p')\n",
    "for i in na:\n",
    "    nameofpm.append(i.text)\n",
    "\n",
    "nameofpm\n"
   ]
  },
  {
   "cell_type": "code",
   "execution_count": null,
   "id": "08f229ba",
   "metadata": {},
   "outputs": [],
   "source": []
  }
 ],
 "metadata": {
  "kernelspec": {
   "display_name": "Python 3 (ipykernel)",
   "language": "python",
   "name": "python3"
  },
  "language_info": {
   "codemirror_mode": {
    "name": "ipython",
    "version": 3
   },
   "file_extension": ".py",
   "mimetype": "text/x-python",
   "name": "python",
   "nbconvert_exporter": "python",
   "pygments_lexer": "ipython3",
   "version": "3.9.13"
  }
 },
 "nbformat": 4,
 "nbformat_minor": 5
}
